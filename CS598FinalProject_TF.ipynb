{
  "nbformat": 4,
  "nbformat_minor": 0,
  "metadata": {
    "colab": {
      "name": "CS598FinalProject_TF.ipynb",
      "provenance": [],
      "collapsed_sections": [],
      "include_colab_link": true
    },
    "kernelspec": {
      "name": "python3",
      "display_name": "Python 3"
    },
    "language_info": {
      "name": "python"
    },
    "accelerator": "GPU"
  },
  "cells": [
    {
      "cell_type": "markdown",
      "metadata": {
        "id": "view-in-github",
        "colab_type": "text"
      },
      "source": [
        "<a href=\"https://colab.research.google.com/github/bbhatia2/DLH_Final/blob/main/CS598FinalProject_TF.ipynb\" target=\"_parent\"><img src=\"https://colab.research.google.com/assets/colab-badge.svg\" alt=\"Open In Colab\"/></a>"
      ]
    },
    {
      "cell_type": "code",
      "execution_count": null,
      "metadata": {
        "id": "rgE5QXcCiYGF",
        "colab": {
          "base_uri": "https://localhost:8080/"
        },
        "outputId": "905f7486-1d65-4308-cadf-ef7924cd6c05"
      },
      "outputs": [
        {
          "output_type": "stream",
          "name": "stdout",
          "text": [
            "TensorFlow 1.x selected.\n"
          ]
        }
      ],
      "source": [
        "from __future__ import print_function\n",
        "%tensorflow_version 1.x\n",
        "import tensorflow as tf\n",
        "import numpy as np\n",
        "import time\n",
        "import pickle\n",
        "from sklearn import preprocessing"
      ]
    },
    {
      "cell_type": "code",
      "source": [
        "#Bahaar's code cell - ignore\n",
        "#source: https://stackoverflow.com/questions/51869713/how-to-read-edf-data-in-python-3\n",
        "#import mne\n",
        "#file = \"my_path\\\\my_file.edf\" #how do you add file\n",
        "#data = mne.io.read_raw_edf(file)\n",
        "#raw_data = data.get_data()\n",
        "# you can get the metadata included in the file and a list of all channels:\n",
        "#info = data.info\n",
        "#channels = data.ch_names\n",
        "\n",
        "from google.colab import drive\n",
        "import os\n",
        "drive.mount('/content/gdrive', force_remount=True)\n",
        "\n",
        "root_dir = \"/content/gdrive/My\\ Drive/\"\n",
        "\n",
        "os.chdir(\"/content/gdrive/My Drive/unzipped_all_14sub.zip/\")\n",
        "os.listdir()\n",
        "!pwd\n",
        "!ls\n",
        "\n",
        "#base_dir = root_dir + 'my-images/'"
      ],
      "metadata": {
        "colab": {
          "base_uri": "https://localhost:8080/"
        },
        "id": "31LI1RcR6vEn",
        "outputId": "05d2a237-7a6c-4a12-bb9e-18accf5302dd"
      },
      "execution_count": null,
      "outputs": [
        {
          "output_type": "stream",
          "name": "stdout",
          "text": [
            "Mounted at /content/gdrive\n",
            "/content/gdrive/My Drive/unzipped_all_14sub.zip\n",
            "all_14sub.p\n"
          ]
        }
      ]
    },
    {
      "cell_type": "code",
      "source": [
        "def one_hot(y_):\n",
        "    # Function to encode output labels from number indexes\n",
        "    # e.g.: [[5], [0], [3]] --> [[0, 0, 0, 0, 0, 1], [1, 0, 0, 0, 0, 0], [0, 0, 0, 1, 0, 0]]\n",
        "    y_ = y_.reshape(len(y_))\n",
        "    y_ = [int(x) for x in y_]\n",
        "    n_values = np.max(y_) + 1\n",
        "    return np.eye(n_values)[np.array(y_, dtype=np.int32)]"
      ],
      "metadata": {
        "id": "OWZn83-kilCN"
      },
      "execution_count": null,
      "outputs": []
    },
    {
      "cell_type": "code",
      "source": [
        "def extract(input, n_fea, time_window, moving):\n",
        "    global n_classes\n",
        "    xx = input[:, :n_fea]\n",
        "    yy = input[:, n_fea:n_fea + 1]\n",
        "    new_x = []\n",
        "    new_y = []\n",
        "    number = int((xx.shape[0] / moving) - 1)\n",
        "    for i in range(number):\n",
        "        ave_y = np.average(yy[int(i * moving):int(i * moving + time_window)])\n",
        "        if ave_y in range(n_classes + 1):\n",
        "            new_x.append(xx[int(i * moving):int(i * moving + time_window), :])\n",
        "            new_y.append(ave_y)\n",
        "        else:\n",
        "            new_x.append(xx[int(i * moving):int(i * moving + time_window), :])\n",
        "            new_y.append(0)\n",
        "\n",
        "    new_x = np.array(new_x)\n",
        "    new_x = new_x.reshape([-1, n_fea * time_window])\n",
        "    new_y = np.array(new_y)\n",
        "    new_y.shape = [new_y.shape[0], 1]\n",
        "    data = np.hstack((new_x, new_y))\n",
        "    data = np.vstack((data, data[-1]))  # add the last sample again, to make the sample number round\n",
        "    return data"
      ],
      "metadata": {
        "id": "RaU3Jmkpm-w9"
      },
      "execution_count": null,
      "outputs": []
    },
    {
      "cell_type": "code",
      "source": [
        "def compute_accuracy_t(v_xs, v_ys):  # this function only calculate the acc of CNN_task\n",
        "    global prediction_t\n",
        "    y_pre = sess.run(prediction_t, feed_dict={xs: v_xs, keep_prob: keep})\n",
        "    correct_prediction = tf.equal(tf.argmax(y_pre, 1), tf.argmax(v_ys, 1))\n",
        "    accuracy = tf.reduce_mean(tf.cast(correct_prediction, tf.float32))\n",
        "    result = sess.run(accuracy, feed_dict={xs: v_xs, ys_t: v_ys, keep_prob: keep})\n",
        "    return result"
      ],
      "metadata": {
        "id": "zPPwL30tnD-x"
      },
      "execution_count": null,
      "outputs": []
    },
    {
      "cell_type": "code",
      "source": [
        "def compute_accuracy_p(v_xs, v_ys):  # this function only calculate the acc of CNN_task\n",
        "    global prediction_p\n",
        "    y_pre = sess.run(prediction_p, feed_dict={xs: v_xs, keep_prob: keep})\n",
        "    correct_prediction = tf.equal(tf.argmax(y_pre,1), tf.argmax(v_ys,1))\n",
        "    accuracy = tf.reduce_mean(tf.cast(correct_prediction, tf.float32))\n",
        "    result = sess.run(accuracy, feed_dict={xs: v_xs, ys_p: v_ys, keep_prob: keep})\n",
        "    return result"
      ],
      "metadata": {
        "id": "0lB7lVO5nH2r"
      },
      "execution_count": null,
      "outputs": []
    },
    {
      "cell_type": "code",
      "source": [
        "# # WoW! use this to limit the GPU number\n",
        "# import os\n",
        "# GPU_ID = 2\n",
        "# os.environ['CUDA_VISIBLE_DEVICES'] = str(GPU_ID)\n",
        "# print('Let`s start!, GPU:', GPU_ID)\n",
        "!cd /home/\n",
        "!pwd\n",
        "!ls /content\n"
      ],
      "metadata": {
        "id": "hzPYCT3anL9e",
        "colab": {
          "base_uri": "https://localhost:8080/"
        },
        "outputId": "60069740-963a-4e74-f768-001fc8c59fe7"
      },
      "execution_count": null,
      "outputs": [
        {
          "output_type": "stream",
          "name": "stdout",
          "text": [
            "/content/gdrive/My Drive/unzipped_all_14sub.zip\n",
            "gdrive\tsample_data\n"
          ]
        }
      ]
    },
    {
      "cell_type": "code",
      "source": [
        "# data reading\n",
        "# python 3: add ',encoding='iso-8859-1'' in the pickle.load.\n",
        "import pickle\n",
        "all_data = pickle.load(open(\"/content/gdrive/My Drive/unzipped_all_14sub.zip/all_14sub.p\", \"rb\" ), encoding='iso-8859-1')\n",
        "print(type(all_data), all_data.shape, all_data[:, -1])\n",
        "\n",
        "n_classes = 2\n",
        "n_person_ = 13  # the number of training subjects\n",
        "sample_persub = 250*500  # we have overlapping now\n",
        "print(type(all_data), all_data.shape, all_data[:, -1])\n",
        "\n",
        "no_fea = 21  # data.shape[-1] - 1\n",
        "seg_length = 250  # # 255 for raw data, 96 for layer 23, 64 for layer 2, 32 for layer 2\n",
        "\n",
        "scaler = preprocessing.MinMaxScaler()  # normalization\n",
        "F = scaler.fit_transform(all_data[:, :no_fea])  # scale to [0, 1]\n",
        "\n",
        "all_data = np.hstack((F, all_data[:, no_fea:no_fea+1]))  # only use the task ID\n"
      ],
      "metadata": {
        "id": "e9Vc9FudnQMz",
        "colab": {
          "base_uri": "https://localhost:8080/"
        },
        "outputId": "d7fcd316-62c8-491b-f4e9-635a4641f2c0"
      },
      "execution_count": null,
      "outputs": [
        {
          "output_type": "stream",
          "name": "stdout",
          "text": [
            "<class 'numpy.ndarray'> (1750000, 23) [ 2.  2.  2. ... 17. 17. 17.]\n",
            "<class 'numpy.ndarray'> (1750000, 23) [ 2.  2.  2. ... 17. 17. 17.]\n"
          ]
        }
      ]
    },
    {
      "cell_type": "code",
      "source": [
        "\"\"\"Make person label\"\"\"\n",
        "n_sample_ = int(2*sample_persub/seg_length )  # the number of sampls of each subject after reshape\n",
        "ll = np.ones([n_sample_, 1])*0\n",
        "for hh in range(1, n_person_):\n",
        "    ll_new = np.ones([n_sample_, 1])*hh\n",
        "    ll = np.vstack((ll, ll_new))\n",
        "print('the shape of maked person label', ll.shape)\n",
        "\n",
        "ll_test = np.ones([n_sample_, 1])*n_person_\n",
        "\n",
        "ss_train = time.clock()\n",
        "# Person Independent"
      ],
      "metadata": {
        "id": "hWlcBBwUnhou",
        "colab": {
          "base_uri": "https://localhost:8080/"
        },
        "outputId": "80c139b5-99fe-4a16-9fc7-a3fefdf2d301"
      },
      "execution_count": null,
      "outputs": [
        {
          "output_type": "stream",
          "name": "stdout",
          "text": [
            "the shape of maked person label (13000, 1)\n"
          ]
        },
        {
          "output_type": "stream",
          "name": "stderr",
          "text": [
            "/usr/local/lib/python3.7/dist-packages/ipykernel_launcher.py:11: DeprecationWarning: time.clock has been deprecated in Python 3.3 and will be removed from Python 3.8: use time.perf_counter or time.process_time instead\n",
            "  # This is added back by InteractiveShellApp.init_path()\n"
          ]
        }
      ]
    },
    {
      "cell_type": "code",
      "source": [
        "\n",
        "\n",
        "for P_ID in range(14):  # n_person_++1\n",
        "    if P_ID==0:\n",
        "        reuse=False\n",
        "    else:\n",
        "        reuse=True\n",
        "    \"\"\"Select train and test subject\"\"\"\n",
        "    data_ = all_data[sample_persub*P_ID:sample_persub*(P_ID+1)]\n",
        "\n",
        "    list = range(sample_persub*P_ID, sample_persub*(P_ID+1))\n",
        "    data = np.delete(all_data, list, axis=0)\n",
        "    # overlap\n",
        "    train_data = extract(data, n_fea=no_fea, time_window=seg_length, moving=(seg_length/2))\n",
        "    test_data = extract(data_, n_fea=no_fea, time_window=seg_length, moving=(seg_length/2))  # 50% overlapping\n",
        "    # continue\n",
        "    \"\"\"Replace the original person data by the maked data\"\"\"\n",
        "    no_fea_long = train_data.shape[-1] - 1  # here is - 2, because has two IDs\n",
        "    print(train_data[:, :no_fea_long+1].shape, ll.shape)\n",
        "    train_data = np.hstack((train_data[:, :no_fea_long+1], ll))\n",
        "    test_data = np.hstack((test_data[:, :no_fea_long + 1], ll_test))\n",
        "    print(train_data.shape)\n",
        "    np.random.shuffle(train_data)\n",
        "    np.random.shuffle(test_data)\n",
        "    print(train_data.shape, test_data.shape)\n",
        "\n",
        "    feature_train = train_data[:, :no_fea_long]\n",
        "    feature_test = test_data[:, :no_fea_long]\n",
        "    label_train_t = train_data[:, no_fea_long:no_fea_long + 1]\n",
        "    label_test_t = test_data[:, no_fea_long:no_fea_long + 1]\n",
        "    label_train_p = train_data[:, no_fea_long + 1:no_fea_long + 2]\n",
        "\n",
        "    label_train_t = one_hot(label_train_t)\n",
        "    label_test_t = one_hot(label_test_t)\n",
        "    label_train_p = one_hot(label_train_p)\n",
        "\n",
        "\n",
        "    n_class_t = 2  # 0-3\n",
        "    n_class_p = n_person_  # 0-8\n",
        "    keep = 0.8\n",
        "\n",
        "    a = feature_train\n",
        "\n",
        "    ## batch split\n",
        "    batch_size = int(feature_test.shape[0])\n",
        "    train_fea = []\n",
        "    n_group = int(feature_train.shape[0]/feature_test.shape[0])\n",
        "    for i in range(n_group):\n",
        "        f = a[(0+batch_size*i):(batch_size+batch_size*i)]\n",
        "        train_fea.append(f)\n",
        "    print (train_fea[0].shape)\n",
        "\n",
        "    train_label_t=[]\n",
        "    for i in range(n_group):\n",
        "        f = label_train_t[(0 + batch_size * i):(batch_size + batch_size * i), :]\n",
        "        train_label_t.append(f)\n",
        "    print (train_label_t[0].shape)\n",
        "\n",
        "    train_label_p = []\n",
        "    for i in range(n_group):\n",
        "        f = label_train_p[(0 + batch_size * i):(batch_size + batch_size * i), :]\n",
        "        train_label_p.append(f)\n",
        "    print (train_label_p[0].shape)\n",
        "\n",
        "    \"\"\"Placeholder\"\"\"\n",
        "    # define placeholder for inputs to network\n",
        "    tf.compat.v1.disable_eager_execution()\n",
        "\n",
        "    xs = tf.compat.v1.placeholder(tf.float32, [None, no_fea_long], name = 'xsss')  # 249*100\n",
        "    ys_t = tf.compat.v1.placeholder(tf.float32, [None, n_class_t], name='ys_t')\n",
        "    ys_p = tf.compat.v1.placeholder(tf.float32, [None, n_class_p], name='ys_p')\n",
        "    keep_prob = tf.compat.v1.placeholder(tf.float32, name='keep')\n",
        "\n",
        "    \"\"\"AE code, whihc is divided into two represents\"\"\"\n",
        "    \"\"\"Use tf.nn.relu in the hidden layer if maxmin scaler; sigmoid if z-score;\n",
        "    use maxmin, AE converge better but the classification training acc cannot reach 100%;\n",
        "    use z-score, the opposite. I perfer z-score. Or use maxmin, make the network deeper?\n",
        "    \"\"\"\n",
        "    \"\"\"Convolutional AE\"\"\"\n",
        "    with tf.compat.v1.variable_scope(\"AE\", reuse=reuse):\n",
        "        # dim_code = 1000\n",
        "        input = tf.reshape(xs, [-1, seg_length, no_fea, 1])  # [200, 14]\n",
        "        input = tf.contrib.layers.batch_norm(input, decay=0.9)\n",
        "        input = tf.nn.dropout(input, keep_prob)\n",
        "        l_AE, w_AE = 2, 1\n",
        "        print(xs.shape)  # [n_samples, 28,28,1]\n",
        "\n",
        "        depth_AE = 4  # default is 8\n",
        "        conv1 = tf.layers.conv2d(inputs=input, filters=depth_AE, kernel_size=[2, 2], padding=\"same\",\n",
        "                                 activation=tf.nn.relu)\n",
        "        h_t = tf.layers.max_pooling2d(inputs=conv1, pool_size=[l_AE, w_AE], strides=[l_AE, w_AE])\n",
        "        # pool1 = tf.contrib.layers.batch_norm(pool1, decay=0.9)\n",
        "\n",
        "        conv1_p = tf.layers.conv2d(inputs=input, filters=depth_AE, kernel_size=[2, 2], padding=\"same\",\n",
        "                                   activation=tf.nn.relu)\n",
        "        h_p = tf.layers.max_pooling2d(inputs=conv1_p, pool_size=[l_AE, w_AE], strides=[l_AE, w_AE])\n",
        "\n",
        "        # decoder\n",
        "        output_t = tf.layers.conv2d_transpose(h_t, kernel_size=5, filters=1, strides=[l_AE, w_AE], padding='same')\n",
        "        # output_t = tf.nn.relu(tf.contrib.layers.batch_norm(output_t, decay=0.9))\n",
        "        output_p = tf.layers.conv2d_transpose(h_p, kernel_size=5, filters=1, strides=[l_AE, w_AE], padding='same')\n",
        "        # output_p = tf.nn.relu(tf.contrib.layers.batch_norm(output_p, decay=0.9))\n",
        "        output = (output_t + output_p) / 2\n",
        "\n",
        "        # #another decoder\n",
        "        # h = (h_t + h_p)/2\n",
        "        # output = tf.layers.conv2d_transpose(h, kernel_size=5, filters=1, strides=[l_AE, w_AE], padding='same')\n",
        "        # output = tf.nn.relu(tf.contrib.layers.batch_norm(output, decay=0.9))\n",
        "\n",
        "        output = tf.reshape(output, [-1, seg_length * no_fea])\n",
        "\n",
        "    \"\"\"CNN code for task, maybe we can make it deeper? \"\"\"\n",
        "    l_1, w_1 = 2, 2\n",
        "    l_2, w_2 = 2, 2\n",
        "    l_3, w_3 = 2, 2\n",
        "    l_4, w_4 = 2, 1\n",
        "\n",
        "    with tf.compat.v1.variable_scope(\"class_t\", reuse=reuse):\n",
        "        # x_image_t = tf.reshape(h_t, [-1, 10, 10, 1])  # [200, 14]\n",
        "        x_image_t = tf.contrib.layers.batch_norm(h_t, decay=0.9)\n",
        "\n",
        "        # x_image_t = tf.nn.dropout(x_image_t, keep_prob)\n",
        "        print(x_image_t.shape)  # [n_samples, 28,28,1]\n",
        "        depth_1 = 16  # default is 8\n",
        "        conv1 = tf.layers.conv2d(inputs=x_image_t, filters=depth_1, kernel_size=[3, 3], padding=\"same\", activation=tf.nn.relu)\n",
        "        pool1 = tf.layers.max_pooling2d(inputs=conv1, pool_size=[l_1, w_1], strides=[l_1, w_1])\n",
        "        pool1 = tf.contrib.layers.batch_norm(pool1, decay=0.9)\n",
        "\n",
        "        depth_2 = 32  # default is 32\n",
        "        conv2 = tf.layers.conv2d(inputs=pool1, filters=depth_2, kernel_size=[3, 3], padding=\"same\", activation=tf.nn.relu)\n",
        "        pool2 = tf.layers.max_pooling2d(inputs=conv2, pool_size=[l_2, w_2], strides=[l_2, w_2])\n",
        "        pool2 = tf.contrib.layers.batch_norm(pool2, decay=0.9)\n",
        "\n",
        "        depth_3 = 64\n",
        "        conv3 = tf.layers.conv2d(inputs=pool2, filters=depth_3, kernel_size=[2, 2], padding=\"same\", activation=tf.nn.relu)\n",
        "        pool3 = tf.layers.max_pooling2d(inputs=conv3, pool_size=[l_3, w_3], strides=[l_3, w_3])\n",
        "        pool3 = tf.contrib.layers.batch_norm(pool3, decay=0.9)\n",
        "        # print(pool1.get_shape(), pool2.get_shape(), pool3.get_shape(),)\n",
        "\n",
        "        depth_4 = 128\n",
        "        conv4 = tf.layers.conv2d(inputs=pool3, filters=depth_4, kernel_size=[2, 2], padding=\"same\", activation=tf.nn.relu)\n",
        "        pool4 = tf.layers.max_pooling2d(inputs=conv4, pool_size=[l_4, w_4], strides=[l_4, w_4])\n",
        "        pool4 = tf.contrib.layers.batch_norm(pool4, decay=0.9)\n",
        "\n",
        "        fc1 = tf.contrib.layers.flatten(pool4)  # flatten the pool 2\n",
        "        print(pool1.get_shape(), pool2.get_shape(), pool3.get_shape(),  pool4.get_shape(), fc1.get_shape())\n",
        "\n",
        "\n",
        "        # \"\"\"Add another FC layer\"\"\"\n",
        "        fc1 = tf.layers.dense(fc1, units=300, activation=tf.nn.sigmoid)\n",
        "        fc1 = tf.nn.dropout(fc1, keep_prob)\n",
        "\n",
        "        dim_hidden = 21\n",
        "        fc3 = tf.layers.dense(fc1, units=dim_hidden, activation=tf.nn.sigmoid)\n",
        "        fc3 = tf.nn.dropout(fc3, keep_prob)\n",
        "\n",
        "        # Attention layer\n",
        "        att = tf.layers.dense(xs, units=fc3.shape[-1], activation=tf.nn.sigmoid)\n",
        "        fc3 = tf.multiply(fc3, att)\n",
        "\n",
        "        prediction_t = tf.layers.dense(fc3, units=n_class_t, activation=None)\n",
        "        print('prediction_t', prediction_t.get_shape())\n",
        "\n",
        "    \"\"\"CNN code for person\"\"\"\n",
        "    with tf.compat.v1.variable_scope(\"class_p\", reuse=reuse):\n",
        "        x_image_p = tf.contrib.layers.batch_norm(h_p, decay=0.9)\n",
        "\n",
        "        conv1_p = tf.layers.conv2d(inputs=x_image_p, filters=depth_1, kernel_size=[3, 3], padding=\"same\", activation=tf.nn.relu)\n",
        "        pool1_p = tf.layers.max_pooling2d(inputs=conv1_p, pool_size=[l_1, w_1], strides=[l_1, w_1])\n",
        "        pool1_p = tf.contrib.layers.batch_norm(pool1_p, decay=0.9)\n",
        "\n",
        "        conv2_p = tf.layers.conv2d(inputs=pool1_p, filters=depth_2, kernel_size=[3, 3], padding=\"same\", activation=tf.nn.relu)\n",
        "        pool2_p = tf.layers.max_pooling2d(inputs=conv2_p, pool_size=[l_2, w_2], strides=[l_2, w_2])\n",
        "        pool2_p = tf.contrib.layers.batch_norm(pool2_p, decay=0.9)\n",
        "\n",
        "        conv3_p = tf.layers.conv2d(inputs=pool2_p, filters=depth_2, kernel_size=[2, 2], padding=\"same\",\n",
        "                                   activation=tf.nn.relu)\n",
        "        pool3_p = tf.layers.max_pooling2d(inputs=conv3_p, pool_size=[l_3, w_3], strides=[l_3, w_3])\n",
        "        pool3_p = tf.contrib.layers.batch_norm(pool3_p, decay=0.9)\n",
        "\n",
        "        conv4_p = tf.layers.conv2d(inputs=pool3_p, filters=depth_4, kernel_size=[2, 2], padding=\"same\", activation=tf.nn.relu)\n",
        "        pool4_p = tf.layers.max_pooling2d(inputs=conv4_p, pool_size=[l_4, w_4], strides=[l_4, w_4])\n",
        "        pool4_p = tf.contrib.layers.batch_norm(pool4_p, decay=0.9)\n",
        "\n",
        "        fc1_p = tf.contrib.layers.flatten(pool4_p)  # flatten the pool 2\n",
        "\n",
        "        dim_hidden_p = 200\n",
        "        fc3_p = tf.layers.dense(fc1_p, units=dim_hidden_p, activation=tf.nn.sigmoid)\n",
        "\n",
        "        fc3_p = tf.nn.dropout(fc3_p, keep_prob)\n",
        "\n",
        "        prediction_p = tf.layers.dense(fc3_p, units=n_class_p, activation=None)\n",
        "        print('prediction_p', tf.shape(prediction_p))\n",
        "\n",
        "    def kl_divergence(p, q):\n",
        "        return tf.reduce_sum(p * tf.log(p/q))\n",
        "\n",
        "\n",
        "    \"\"\"cost calculation\"\"\"\n",
        "    train_vars = tf.trainable_variables()\n",
        "    l2_AE = 0.005 * sum(tf.nn.l2_loss(var) for var in tf.trainable_variables() if var.name.startswith(\"AE\"))\n",
        "    l2_class = 0.005 * sum(tf.nn.l2_loss(var) for var in tf.trainable_variables() if var.name.startswith(\"class\"))\n",
        "    \"\"\"multiply 5 to enhance the cross_entropy_t \"\"\"\n",
        "    cross_entropy_t = 10*tf.reduce_mean(tf.nn.softmax_cross_entropy_with_logits(logits=prediction_t, labels=ys_t))\n",
        "    cross_entropy_p = tf.reduce_mean(tf.nn.softmax_cross_entropy_with_logits(logits=prediction_p, labels=ys_p))\n",
        "    \"\"\"Add 0.1 to reduce the cost_AE\"\"\"\n",
        "    cost_AE = tf.reduce_mean(tf.pow(xs - output, 2)) + l2_AE\n",
        "\n",
        "    class_vars = [var for var in train_vars if var.name.startswith(\"class\")]  # discriminator tensor\n",
        "    AE_vars = [var for var in train_vars if var.name.startswith(\"AE\")]\n",
        "    t_vars = [var for var in train_vars if var.name.startswith(\"class_t\")]\n",
        "\n",
        "    cost = cost_AE  + cross_entropy_t +   cross_entropy_p + l2_class + l2_AE\n",
        "    lr = 0.00005  # use 0.0001 for parameter tuning\n",
        "    with tf.compat.v1.variable_scope(\"optimization\", reuse=reuse):\n",
        "        train_step_task = tf.train.AdamOptimizer(lr).minimize(cost, )\n",
        "        # train_step_AE = tf.train.AdamOptimizer(lr).minimize(cost_AE+l2_AE, var_list=AE_vars)\n",
        "        train_step_t = tf.train.AdamOptimizer(lr).minimize(cross_entropy_t)\n",
        "    # 1. AE learning rate= 0.00001 2. dim_code larger better, 3. add cost_AE on cost.\n",
        "\n",
        "    con = tf.ConfigProto()\n",
        "    con.gpu_options.allow_growth = True\n",
        "    sess = tf.Session(config=con)\n",
        "    init = tf.global_variables_initializer()\n",
        "    sess.run(init)\n",
        "    # History records of loss functions\n",
        "    cost_his = []\n",
        "    cost_AE_his = []\n",
        "    cost_t_his = []\n",
        "    cost_p_his = []\n",
        "\n",
        "    test_cost_t_his = []\n",
        "\n",
        "    start=time.clock()\n",
        "    step = 1\n",
        "    while step < 7:  # 251 iterations\n",
        "        print('iteration step', step)\n",
        "        for i in range(n_group):\n",
        "            feed = {xs: train_fea[i], ys_t: train_label_t[i], ys_p: train_label_p[i], keep_prob:keep}\n",
        "            sess.run(train_step_task, feed_dict=feed)\n",
        "            sess.run(train_step_t, feed_dict=feed)\n",
        "\n",
        "        if step % 3 == 0:\n",
        "            \"\"\"training cost\"\"\"\n",
        "            cost_, cost_AE_, cross_entropy_p_, cross_entropy_t_=sess.run([cost, cost_AE, cross_entropy_p, cross_entropy_t],\n",
        "                                                                         feed_dict={xs: train_fea[0],\n",
        "                                             ys_t: train_label_t[0], ys_p: train_label_p[0], keep_prob:keep})\n",
        "\n",
        "            \"\"\"testing cost\"\"\"\n",
        "            cost_AE_test_, cross_entropy_t_test_=sess.run([cost_AE, cross_entropy_t],\n",
        "                                                          feed_dict ={xs: feature_test, ys_t: label_test_t, keep_prob: keep})\n",
        "\n",
        "            print('person, step:',P_ID, step, 'train acc task', compute_accuracy_t(feature_train, label_train_t),\n",
        "                  'train acc person', compute_accuracy_p(feature_train, label_train_p),\n",
        "                  ',the test acc task', compute_accuracy_t(feature_test, label_test_t),\n",
        "                  'testing: AE, t', cost_AE_test_, cross_entropy_t_test_)\n",
        "\n",
        "            print('training cost: total, AE, t, p',cost_, cost_AE_,  cross_entropy_t_, cross_entropy_p_)\n",
        "            cost_his.append(cost_)\n",
        "            cost_AE_his.append(cost_AE_)\n",
        "            cost_t_his.append(cross_entropy_t_)\n",
        "            cost_p_his.append(cross_entropy_p_)\n",
        "\n",
        "            test_cost_t_his.append(cross_entropy_t_test_)\n",
        "\n",
        "        # save the attention weights for fine-grained analysis\n",
        "        if step % 6 == 0:\n",
        "            att_ = sess.run(att, feed_dict={xs: feature_test, ys_t: label_test_t, keep_prob: keep})\n",
        "\n",
        "            ss = time.clock()\n",
        "            pred = sess.run(prediction_t, feed_dict={xs: feature_test, ys_t: label_test_t, keep_prob: keep})\n",
        "            print('training, testing time', time.clock()-ss_train, time.clock()-ss)\n",
        "            \n",
        "            pickle.dump(att_,  open('/content/gdrive/My Drive/TUH_attention_p'\n",
        "                                    +str(step)+'_backup.p',  \"wb\"), protocol=2) #/home/xiangzhang/scratch/activity_recognition_practice/Parkinson_seizure/TUH_attention_P\n",
        "            print('attention saved, person:', P_ID)\n",
        "\n",
        "        step += 1\n",
        "\n",
        "    # save the cost history values for convergence analysis\n",
        "    pickle.dump(cost_his, open('/content/gdrive/My Drive/cost_his.p', \"wb\"))\n",
        "    pickle.dump(cost_AE_his,\n",
        "                 open('/content/gdrive/My Drive/cost_AE_his.p', \"wb\")) #home/xiangzhang/scratch/activity_recognition_practice/Parkinson_seizure/cost_AE_his.p\n",
        "    pickle.dump(cost_t_his,\n",
        "                 open('/content/gdrive/My Drive/cost_t_his.p', \"wb\")) #/home/xiangzhang/scratch/activity_recognition_practice/Parkinson_seizure/cost_t_his.p\n",
        "    pickle.dump(cost_p_his,\n",
        "                 open('/content/gdrive/My Drive/cost_p_his.p', \"wb\")) #/home/xiangzhang/scratch/activity_recognition_practice/Parkinson_seizure/cost_p_his.p\n",
        "    pickle.dump(test_cost_t_his,\n",
        "                 open('/content/gdrive/My Drive/test_cost_t_his.p', \"wb\")) #/home/xiangzhang/scratch/activity_recognition_practice/Parkinson_seizure/test_cost_t_his.p\n",
        "    print(\"five losses are saved at /home/xiangzhang/scratch/activity_recognition_practice/Parkinson_seizure\")"
      ],
      "metadata": {
        "id": "h_5kwRjunn9Y",
        "colab": {
          "base_uri": "https://localhost:8080/"
        },
        "outputId": "19c3dfb8-e66c-49fb-c921-7decbe28dc5c"
      },
      "execution_count": null,
      "outputs": [
        {
          "output_type": "stream",
          "name": "stdout",
          "text": [
            "(13000, 5251) (13000, 1)\n",
            "(13000, 5252)\n",
            "(13000, 5252) (1000, 5252)\n",
            "(1000, 5250)\n",
            "(1000, 2)\n",
            "(1000, 13)\n",
            "WARNING:tensorflow:\n",
            "The TensorFlow contrib module will not be included in TensorFlow 2.0.\n",
            "For more information, please see:\n",
            "  * https://github.com/tensorflow/community/blob/master/rfcs/20180907-contrib-sunset.md\n",
            "  * https://github.com/tensorflow/addons\n",
            "  * https://github.com/tensorflow/io (for I/O related ops)\n",
            "If you depend on functionality not listed there, please file an issue.\n",
            "\n",
            "WARNING:tensorflow:From /tensorflow-1.15.2/python3.7/tensorflow_core/contrib/layers/python/layers/layers.py:650: Layer.apply (from tensorflow.python.keras.engine.base_layer) is deprecated and will be removed in a future version.\n",
            "Instructions for updating:\n",
            "Please use `layer.__call__` method instead.\n",
            "WARNING:tensorflow:From <ipython-input-10-ce9fe507034e>:84: calling dropout (from tensorflow.python.ops.nn_ops) with keep_prob is deprecated and will be removed in a future version.\n",
            "Instructions for updating:\n",
            "Please use `rate` instead of `keep_prob`. Rate should be set to `rate = 1 - keep_prob`.\n",
            "(?, 5250)\n",
            "WARNING:tensorflow:From <ipython-input-10-ce9fe507034e>:90: conv2d (from tensorflow.python.layers.convolutional) is deprecated and will be removed in a future version.\n",
            "Instructions for updating:\n",
            "Use `tf.keras.layers.Conv2D` instead.\n",
            "WARNING:tensorflow:From <ipython-input-10-ce9fe507034e>:91: max_pooling2d (from tensorflow.python.layers.pooling) is deprecated and will be removed in a future version.\n",
            "Instructions for updating:\n",
            "Use keras.layers.MaxPooling2D instead.\n",
            "WARNING:tensorflow:From <ipython-input-10-ce9fe507034e>:99: conv2d_transpose (from tensorflow.python.layers.convolutional) is deprecated and will be removed in a future version.\n",
            "Instructions for updating:\n",
            "Use `tf.keras.layers.Conv2DTranspose` instead.\n",
            "(?, 125, 21, 4)\n",
            "WARNING:tensorflow:From /tensorflow-1.15.2/python3.7/tensorflow_core/contrib/layers/python/layers/layers.py:1634: flatten (from tensorflow.python.layers.core) is deprecated and will be removed in a future version.\n",
            "Instructions for updating:\n",
            "Use keras.layers.flatten instead.\n",
            "(?, 62, 10, 16) (?, 31, 5, 32) (?, 15, 2, 64) (?, 7, 2, 128) (?, 1792)\n",
            "WARNING:tensorflow:From <ipython-input-10-ce9fe507034e>:150: dense (from tensorflow.python.layers.core) is deprecated and will be removed in a future version.\n",
            "Instructions for updating:\n",
            "Use keras.layers.Dense instead.\n",
            "prediction_t (?, 2)\n",
            "prediction_p Tensor(\"class_p/Shape:0\", shape=(2,), dtype=int32)\n",
            "WARNING:tensorflow:From <ipython-input-10-ce9fe507034e>:204: softmax_cross_entropy_with_logits (from tensorflow.python.ops.nn_ops) is deprecated and will be removed in a future version.\n",
            "Instructions for updating:\n",
            "\n",
            "Future major versions of TensorFlow will allow gradients to flow\n",
            "into the labels input on backprop by default.\n",
            "\n",
            "See `tf.nn.softmax_cross_entropy_with_logits_v2`.\n",
            "\n",
            "WARNING:tensorflow:From /tensorflow-1.15.2/python3.7/tensorflow_core/python/ops/math_grad.py:1375: where (from tensorflow.python.ops.array_ops) is deprecated and will be removed in a future version.\n",
            "Instructions for updating:\n",
            "Use tf.where in 2.0, which has the same broadcast rule as np.where\n"
          ]
        },
        {
          "output_type": "stream",
          "name": "stderr",
          "text": [
            "/usr/local/lib/python3.7/dist-packages/ipykernel_launcher.py:234: DeprecationWarning: time.clock has been deprecated in Python 3.3 and will be removed from Python 3.8: use time.perf_counter or time.process_time instead\n"
          ]
        },
        {
          "output_type": "stream",
          "name": "stdout",
          "text": [
            "iteration step 1\n",
            "iteration step 2\n",
            "iteration step 3\n",
            "person, step: 0 3 train acc task 0.7446923 train acc person 0.20338461 ,the test acc task 0.848 testing: AE, t 0.42621025 4.519281\n",
            "training cost: total, AE, t, p 11.450987 0.43136618 5.5476685 2.3668337\n",
            "iteration step 4\n",
            "iteration step 5\n",
            "iteration step 6\n",
            "person, step: 0 6 train acc task 0.7445385 train acc person 0.27223077 ,the test acc task 0.848 testing: AE, t 0.3861858 4.3861394\n",
            "training cost: total, AE, t, p 10.923914 0.39025265 5.311967 2.1719728\n"
          ]
        },
        {
          "output_type": "stream",
          "name": "stderr",
          "text": [
            "/usr/local/lib/python3.7/dist-packages/ipykernel_launcher.py:270: DeprecationWarning: time.clock has been deprecated in Python 3.3 and will be removed from Python 3.8: use time.perf_counter or time.process_time instead\n",
            "/usr/local/lib/python3.7/dist-packages/ipykernel_launcher.py:272: DeprecationWarning: time.clock has been deprecated in Python 3.3 and will be removed from Python 3.8: use time.perf_counter or time.process_time instead\n"
          ]
        },
        {
          "output_type": "stream",
          "name": "stdout",
          "text": [
            "training, testing time 48.821999 0.1551150000000021\n",
            "attention saved, person: 0\n",
            "five losses are saved at /home/xiangzhang/scratch/activity_recognition_practice/Parkinson_seizure\n",
            "(13000, 5251) (13000, 1)\n",
            "(13000, 5252)\n",
            "(13000, 5252) (1000, 5252)\n",
            "(1000, 5250)\n",
            "(1000, 2)\n",
            "(1000, 13)\n",
            "(?, 5250)\n",
            "(?, 125, 21, 4)\n",
            "(?, 62, 10, 16) (?, 31, 5, 32) (?, 15, 2, 64) (?, 7, 2, 128) (?, 1792)\n",
            "prediction_t (?, 2)\n",
            "prediction_p Tensor(\"class_p_1/Shape:0\", shape=(2,), dtype=int32)\n"
          ]
        },
        {
          "output_type": "stream",
          "name": "stderr",
          "text": [
            "/usr/local/lib/python3.7/dist-packages/ipykernel_launcher.py:234: DeprecationWarning: time.clock has been deprecated in Python 3.3 and will be removed from Python 3.8: use time.perf_counter or time.process_time instead\n"
          ]
        },
        {
          "output_type": "stream",
          "name": "stdout",
          "text": [
            "iteration step 1\n",
            "iteration step 2\n",
            "iteration step 3\n",
            "person, step: 1 3 train acc task 0.7635385 train acc person 0.20538461 ,the test acc task 0.6 testing: AE, t 0.54602224 6.6539154\n",
            "training cost: total, AE, t, p 11.527821 0.5496995 5.545421 2.330292\n",
            "iteration step 4\n",
            "iteration step 5\n",
            "iteration step 6\n",
            "person, step: 1 6 train acc task 0.77761537 train acc person 0.28469232 ,the test acc task 0.605 testing: AE, t 0.51055634 6.523572\n",
            "training cost: total, AE, t, p 11.122348 0.51403254 5.4303885 2.1324365\n"
          ]
        },
        {
          "output_type": "stream",
          "name": "stderr",
          "text": [
            "/usr/local/lib/python3.7/dist-packages/ipykernel_launcher.py:270: DeprecationWarning: time.clock has been deprecated in Python 3.3 and will be removed from Python 3.8: use time.perf_counter or time.process_time instead\n",
            "/usr/local/lib/python3.7/dist-packages/ipykernel_launcher.py:272: DeprecationWarning: time.clock has been deprecated in Python 3.3 and will be removed from Python 3.8: use time.perf_counter or time.process_time instead\n"
          ]
        },
        {
          "output_type": "stream",
          "name": "stdout",
          "text": [
            "training, testing time 87.158681 0.19336799999999243\n",
            "attention saved, person: 1\n",
            "five losses are saved at /home/xiangzhang/scratch/activity_recognition_practice/Parkinson_seizure\n",
            "(13000, 5251) (13000, 1)\n",
            "(13000, 5252)\n",
            "(13000, 5252) (1000, 5252)\n",
            "(1000, 5250)\n",
            "(1000, 2)\n",
            "(1000, 13)\n",
            "(?, 5250)\n",
            "(?, 125, 21, 4)\n",
            "(?, 62, 10, 16) (?, 31, 5, 32) (?, 15, 2, 64) (?, 7, 2, 128) (?, 1792)\n",
            "prediction_t (?, 2)\n",
            "prediction_p Tensor(\"class_p_2/Shape:0\", shape=(2,), dtype=int32)\n"
          ]
        },
        {
          "output_type": "stream",
          "name": "stderr",
          "text": [
            "/usr/local/lib/python3.7/dist-packages/ipykernel_launcher.py:234: DeprecationWarning: time.clock has been deprecated in Python 3.3 and will be removed from Python 3.8: use time.perf_counter or time.process_time instead\n"
          ]
        },
        {
          "output_type": "stream",
          "name": "stdout",
          "text": [
            "iteration step 1\n",
            "iteration step 2\n",
            "iteration step 3\n",
            "person, step: 2 3 train acc task 0.74946153 train acc person 0.24584615 ,the test acc task 0.843 testing: AE, t 0.4054878 4.0684667\n",
            "training cost: total, AE, t, p 11.471786 0.40732154 5.7230897 2.2678697\n",
            "iteration step 4\n",
            "iteration step 5\n",
            "iteration step 6\n",
            "person, step: 2 6 train acc task 0.7703077 train acc person 0.33084616 ,the test acc task 0.883 testing: AE, t 0.37109777 3.6053429\n",
            "training cost: total, AE, t, p 10.730707 0.37284425 5.326631 2.0230377\n"
          ]
        },
        {
          "output_type": "stream",
          "name": "stderr",
          "text": [
            "/usr/local/lib/python3.7/dist-packages/ipykernel_launcher.py:270: DeprecationWarning: time.clock has been deprecated in Python 3.3 and will be removed from Python 3.8: use time.perf_counter or time.process_time instead\n",
            "/usr/local/lib/python3.7/dist-packages/ipykernel_launcher.py:272: DeprecationWarning: time.clock has been deprecated in Python 3.3 and will be removed from Python 3.8: use time.perf_counter or time.process_time instead\n"
          ]
        },
        {
          "output_type": "stream",
          "name": "stdout",
          "text": [
            "training, testing time 125.880477 0.2328809999999919\n",
            "attention saved, person: 2\n",
            "five losses are saved at /home/xiangzhang/scratch/activity_recognition_practice/Parkinson_seizure\n",
            "(13000, 5251) (13000, 1)\n",
            "(13000, 5252)\n",
            "(13000, 5252) (1000, 5252)\n",
            "(1000, 5250)\n",
            "(1000, 2)\n",
            "(1000, 13)\n",
            "(?, 5250)\n",
            "(?, 125, 21, 4)\n",
            "(?, 62, 10, 16) (?, 31, 5, 32) (?, 15, 2, 64) (?, 7, 2, 128) (?, 1792)\n",
            "prediction_t (?, 2)\n",
            "prediction_p Tensor(\"class_p_3/Shape:0\", shape=(2,), dtype=int32)\n"
          ]
        },
        {
          "output_type": "stream",
          "name": "stderr",
          "text": [
            "/usr/local/lib/python3.7/dist-packages/ipykernel_launcher.py:234: DeprecationWarning: time.clock has been deprecated in Python 3.3 and will be removed from Python 3.8: use time.perf_counter or time.process_time instead\n"
          ]
        },
        {
          "output_type": "stream",
          "name": "stdout",
          "text": [
            "iteration step 1\n",
            "iteration step 2\n",
            "iteration step 3\n",
            "person, step: 3 3 train acc task 0.7597692 train acc person 0.26753846 ,the test acc task 0.655 testing: AE, t 0.3694074 6.347967\n",
            "training cost: total, AE, t, p 10.969185 0.37066612 5.2876625 2.2280571\n",
            "iteration step 4\n",
            "iteration step 5\n",
            "iteration step 6\n",
            "person, step: 3 6 train acc task 0.7616923 train acc person 0.34953848 ,the test acc task 0.657 testing: AE, t 0.33243597 6.1067123\n",
            "training cost: total, AE, t, p 10.494732 0.33374575 5.1532407 1.9943981\n"
          ]
        },
        {
          "output_type": "stream",
          "name": "stderr",
          "text": [
            "/usr/local/lib/python3.7/dist-packages/ipykernel_launcher.py:270: DeprecationWarning: time.clock has been deprecated in Python 3.3 and will be removed from Python 3.8: use time.perf_counter or time.process_time instead\n",
            "/usr/local/lib/python3.7/dist-packages/ipykernel_launcher.py:272: DeprecationWarning: time.clock has been deprecated in Python 3.3 and will be removed from Python 3.8: use time.perf_counter or time.process_time instead\n"
          ]
        },
        {
          "output_type": "stream",
          "name": "stdout",
          "text": [
            "training, testing time 165.318939 0.2547519999999963\n",
            "attention saved, person: 3\n",
            "five losses are saved at /home/xiangzhang/scratch/activity_recognition_practice/Parkinson_seizure\n",
            "(13000, 5251) (13000, 1)\n",
            "(13000, 5252)\n",
            "(13000, 5252) (1000, 5252)\n",
            "(1000, 5250)\n",
            "(1000, 2)\n",
            "(1000, 13)\n",
            "(?, 5250)\n",
            "(?, 125, 21, 4)\n",
            "(?, 62, 10, 16) (?, 31, 5, 32) (?, 15, 2, 64) (?, 7, 2, 128) (?, 1792)\n",
            "prediction_t (?, 2)\n",
            "prediction_p Tensor(\"class_p_4/Shape:0\", shape=(2,), dtype=int32)\n"
          ]
        },
        {
          "output_type": "stream",
          "name": "stderr",
          "text": [
            "/usr/local/lib/python3.7/dist-packages/ipykernel_launcher.py:234: DeprecationWarning: time.clock has been deprecated in Python 3.3 and will be removed from Python 3.8: use time.perf_counter or time.process_time instead\n"
          ]
        },
        {
          "output_type": "stream",
          "name": "stdout",
          "text": [
            "iteration step 1\n",
            "iteration step 2\n",
            "iteration step 3\n",
            "person, step: 4 3 train acc task 0.76315385 train acc person 0.23015384 ,the test acc task 0.868 testing: AE, t 0.34963882 4.6736894\n",
            "training cost: total, AE, t, p 10.996066 0.35004795 5.291381 2.281468\n",
            "iteration step 4\n",
            "iteration step 5\n",
            "iteration step 6\n",
            "person, step: 4 6 train acc task 0.7936154 train acc person 0.2966154 ,the test acc task 0.856 testing: AE, t 0.31609803 4.6695194\n",
            "training cost: total, AE, t, p 10.375024 0.31646568 4.986601 2.0599651\n"
          ]
        },
        {
          "output_type": "stream",
          "name": "stderr",
          "text": [
            "/usr/local/lib/python3.7/dist-packages/ipykernel_launcher.py:270: DeprecationWarning: time.clock has been deprecated in Python 3.3 and will be removed from Python 3.8: use time.perf_counter or time.process_time instead\n",
            "/usr/local/lib/python3.7/dist-packages/ipykernel_launcher.py:272: DeprecationWarning: time.clock has been deprecated in Python 3.3 and will be removed from Python 3.8: use time.perf_counter or time.process_time instead\n"
          ]
        },
        {
          "output_type": "stream",
          "name": "stdout",
          "text": [
            "training, testing time 205.426313 0.34105399999998554\n",
            "attention saved, person: 4\n",
            "five losses are saved at /home/xiangzhang/scratch/activity_recognition_practice/Parkinson_seizure\n",
            "(13000, 5251) (13000, 1)\n",
            "(13000, 5252)\n",
            "(13000, 5252) (1000, 5252)\n",
            "(1000, 5250)\n",
            "(1000, 2)\n",
            "(1000, 13)\n",
            "(?, 5250)\n",
            "(?, 125, 21, 4)\n",
            "(?, 62, 10, 16) (?, 31, 5, 32) (?, 15, 2, 64) (?, 7, 2, 128) (?, 1792)\n",
            "prediction_t (?, 2)\n",
            "prediction_p Tensor(\"class_p_5/Shape:0\", shape=(2,), dtype=int32)\n"
          ]
        },
        {
          "output_type": "stream",
          "name": "stderr",
          "text": [
            "/usr/local/lib/python3.7/dist-packages/ipykernel_launcher.py:234: DeprecationWarning: time.clock has been deprecated in Python 3.3 and will be removed from Python 3.8: use time.perf_counter or time.process_time instead\n"
          ]
        },
        {
          "output_type": "stream",
          "name": "stdout",
          "text": [
            "iteration step 1\n",
            "iteration step 2\n",
            "iteration step 3\n",
            "person, step: 5 3 train acc task 0.763 train acc person 0.26692307 ,the test acc task 0.6 testing: AE, t 0.5336605 7.1174564\n",
            "training cost: total, AE, t, p 10.885474 0.5383918 4.9948115 2.2408774\n",
            "iteration step 4\n",
            "iteration step 5\n",
            "iteration step 6\n",
            "person, step: 5 6 train acc task 0.76384616 train acc person 0.32953846 ,the test acc task 0.602 testing: AE, t 0.4921511 6.982235\n",
            "training cost: total, AE, t, p 10.404682 0.49668193 4.8557673 1.9866486\n"
          ]
        },
        {
          "output_type": "stream",
          "name": "stderr",
          "text": [
            "/usr/local/lib/python3.7/dist-packages/ipykernel_launcher.py:270: DeprecationWarning: time.clock has been deprecated in Python 3.3 and will be removed from Python 3.8: use time.perf_counter or time.process_time instead\n",
            "/usr/local/lib/python3.7/dist-packages/ipykernel_launcher.py:272: DeprecationWarning: time.clock has been deprecated in Python 3.3 and will be removed from Python 3.8: use time.perf_counter or time.process_time instead\n"
          ]
        },
        {
          "output_type": "stream",
          "name": "stdout",
          "text": [
            "training, testing time 246.68294500000002 0.31288799999998673\n",
            "attention saved, person: 5\n",
            "five losses are saved at /home/xiangzhang/scratch/activity_recognition_practice/Parkinson_seizure\n",
            "(13000, 5251) (13000, 1)\n",
            "(13000, 5252)\n",
            "(13000, 5252) (1000, 5252)\n",
            "(1000, 5250)\n",
            "(1000, 2)\n",
            "(1000, 13)\n",
            "(?, 5250)\n",
            "(?, 125, 21, 4)\n",
            "(?, 62, 10, 16) (?, 31, 5, 32) (?, 15, 2, 64) (?, 7, 2, 128) (?, 1792)\n",
            "prediction_t (?, 2)\n",
            "prediction_p Tensor(\"class_p_6/Shape:0\", shape=(2,), dtype=int32)\n"
          ]
        },
        {
          "output_type": "stream",
          "name": "stderr",
          "text": [
            "/usr/local/lib/python3.7/dist-packages/ipykernel_launcher.py:234: DeprecationWarning: time.clock has been deprecated in Python 3.3 and will be removed from Python 3.8: use time.perf_counter or time.process_time instead\n"
          ]
        },
        {
          "output_type": "stream",
          "name": "stdout",
          "text": [
            "iteration step 1\n",
            "iteration step 2\n",
            "iteration step 3\n",
            "person, step: 6 3 train acc task 0.74815387 train acc person 0.2756923 ,the test acc task 0.802 testing: AE, t 0.33470547 4.702034\n",
            "training cost: total, AE, t, p 11.030029 0.33488792 5.425532 2.1717515\n",
            "iteration step 4\n",
            "iteration step 5\n",
            "iteration step 6\n",
            "person, step: 6 6 train acc task 0.7480769 train acc person 0.36853847 ,the test acc task 0.802 testing: AE, t 0.3043103 4.486503\n",
            "training cost: total, AE, t, p 10.536646 0.30443674 5.2723665 1.9152393\n"
          ]
        },
        {
          "output_type": "stream",
          "name": "stderr",
          "text": [
            "/usr/local/lib/python3.7/dist-packages/ipykernel_launcher.py:270: DeprecationWarning: time.clock has been deprecated in Python 3.3 and will be removed from Python 3.8: use time.perf_counter or time.process_time instead\n",
            "/usr/local/lib/python3.7/dist-packages/ipykernel_launcher.py:272: DeprecationWarning: time.clock has been deprecated in Python 3.3 and will be removed from Python 3.8: use time.perf_counter or time.process_time instead\n"
          ]
        },
        {
          "output_type": "stream",
          "name": "stdout",
          "text": [
            "training, testing time 288.71299899999997 0.34009200000002693\n",
            "attention saved, person: 6\n",
            "five losses are saved at /home/xiangzhang/scratch/activity_recognition_practice/Parkinson_seizure\n",
            "(13000, 5251) (13000, 1)\n",
            "(13000, 5252)\n",
            "(13000, 5252) (1000, 5252)\n",
            "(1000, 5250)\n",
            "(1000, 2)\n",
            "(1000, 13)\n",
            "(?, 5250)\n",
            "(?, 125, 21, 4)\n",
            "(?, 62, 10, 16) (?, 31, 5, 32) (?, 15, 2, 64) (?, 7, 2, 128) (?, 1792)\n",
            "prediction_t (?, 2)\n",
            "prediction_p Tensor(\"class_p_7/Shape:0\", shape=(2,), dtype=int32)\n"
          ]
        },
        {
          "output_type": "stream",
          "name": "stderr",
          "text": [
            "/usr/local/lib/python3.7/dist-packages/ipykernel_launcher.py:234: DeprecationWarning: time.clock has been deprecated in Python 3.3 and will be removed from Python 3.8: use time.perf_counter or time.process_time instead\n"
          ]
        },
        {
          "output_type": "stream",
          "name": "stdout",
          "text": [
            "iteration step 1\n",
            "iteration step 2\n",
            "iteration step 3\n",
            "person, step: 7 3 train acc task 0.74315387 train acc person 0.18123077 ,the test acc task 0.868 testing: AE, t 0.27845797 4.1325874\n",
            "training cost: total, AE, t, p 11.054248 0.26810545 5.3534145 2.3322847\n",
            "iteration step 4\n",
            "iteration step 5\n",
            "iteration step 6\n",
            "person, step: 7 6 train acc task 0.7627692 train acc person 0.2536923 ,the test acc task 0.888 testing: AE, t 0.25428587 3.8529813\n",
            "training cost: total, AE, t, p 10.592401 0.24486661 5.1413155 2.162956\n"
          ]
        },
        {
          "output_type": "stream",
          "name": "stderr",
          "text": [
            "/usr/local/lib/python3.7/dist-packages/ipykernel_launcher.py:270: DeprecationWarning: time.clock has been deprecated in Python 3.3 and will be removed from Python 3.8: use time.perf_counter or time.process_time instead\n",
            "/usr/local/lib/python3.7/dist-packages/ipykernel_launcher.py:272: DeprecationWarning: time.clock has been deprecated in Python 3.3 and will be removed from Python 3.8: use time.perf_counter or time.process_time instead\n"
          ]
        },
        {
          "output_type": "stream",
          "name": "stdout",
          "text": [
            "training, testing time 331.881976 0.4222880000000373\n",
            "attention saved, person: 7\n",
            "five losses are saved at /home/xiangzhang/scratch/activity_recognition_practice/Parkinson_seizure\n",
            "(13000, 5251) (13000, 1)\n",
            "(13000, 5252)\n",
            "(13000, 5252) (1000, 5252)\n",
            "(1000, 5250)\n",
            "(1000, 2)\n",
            "(1000, 13)\n",
            "(?, 5250)\n",
            "(?, 125, 21, 4)\n",
            "(?, 62, 10, 16) (?, 31, 5, 32) (?, 15, 2, 64) (?, 7, 2, 128) (?, 1792)\n",
            "prediction_t (?, 2)\n",
            "prediction_p Tensor(\"class_p_8/Shape:0\", shape=(2,), dtype=int32)\n"
          ]
        },
        {
          "output_type": "stream",
          "name": "stderr",
          "text": [
            "/usr/local/lib/python3.7/dist-packages/ipykernel_launcher.py:234: DeprecationWarning: time.clock has been deprecated in Python 3.3 and will be removed from Python 3.8: use time.perf_counter or time.process_time instead\n"
          ]
        },
        {
          "output_type": "stream",
          "name": "stdout",
          "text": [
            "iteration step 1\n",
            "iteration step 2\n",
            "iteration step 3\n",
            "person, step: 8 3 train acc task 0.75246155 train acc person 0.16253847 ,the test acc task 0.761 testing: AE, t 0.65175664 4.704862\n",
            "training cost: total, AE, t, p 11.988763 0.65075725 5.754218 2.488775\n",
            "iteration step 4\n",
            "iteration step 5\n",
            "iteration step 6\n",
            "person, step: 8 6 train acc task 0.7723077 train acc person 0.20092307 ,the test acc task 0.806 testing: AE, t 0.5996072 4.594487\n",
            "training cost: total, AE, t, p 11.460188 0.60144466 5.4770765 2.3422315\n"
          ]
        },
        {
          "output_type": "stream",
          "name": "stderr",
          "text": [
            "/usr/local/lib/python3.7/dist-packages/ipykernel_launcher.py:270: DeprecationWarning: time.clock has been deprecated in Python 3.3 and will be removed from Python 3.8: use time.perf_counter or time.process_time instead\n",
            "/usr/local/lib/python3.7/dist-packages/ipykernel_launcher.py:272: DeprecationWarning: time.clock has been deprecated in Python 3.3 and will be removed from Python 3.8: use time.perf_counter or time.process_time instead\n"
          ]
        },
        {
          "output_type": "stream",
          "name": "stdout",
          "text": [
            "training, testing time 375.546606 0.4451419999999757\n",
            "attention saved, person: 8\n",
            "five losses are saved at /home/xiangzhang/scratch/activity_recognition_practice/Parkinson_seizure\n",
            "(13000, 5251) (13000, 1)\n",
            "(13000, 5252)\n",
            "(13000, 5252) (1000, 5252)\n",
            "(1000, 5250)\n",
            "(1000, 2)\n",
            "(1000, 13)\n",
            "(?, 5250)\n",
            "(?, 125, 21, 4)\n",
            "(?, 62, 10, 16) (?, 31, 5, 32) (?, 15, 2, 64) (?, 7, 2, 128) (?, 1792)\n",
            "prediction_t (?, 2)\n",
            "prediction_p Tensor(\"class_p_9/Shape:0\", shape=(2,), dtype=int32)\n"
          ]
        },
        {
          "output_type": "stream",
          "name": "stderr",
          "text": [
            "/usr/local/lib/python3.7/dist-packages/ipykernel_launcher.py:234: DeprecationWarning: time.clock has been deprecated in Python 3.3 and will be removed from Python 3.8: use time.perf_counter or time.process_time instead\n"
          ]
        },
        {
          "output_type": "stream",
          "name": "stdout",
          "text": [
            "iteration step 1\n",
            "iteration step 2\n",
            "iteration step 3\n",
            "person, step: 9 3 train acc task 0.7659231 train acc person 0.24669231 ,the test acc task 0.6 testing: AE, t 0.51505023 7.1887584\n",
            "training cost: total, AE, t, p 11.135898 0.5155488 5.271456 2.2400587\n",
            "iteration step 4\n",
            "iteration step 5\n",
            "iteration step 6\n",
            "person, step: 9 6 train acc task 0.7853077 train acc person 0.31853846 ,the test acc task 0.603 testing: AE, t 0.47323295 7.364134\n",
            "training cost: total, AE, t, p 10.44087 0.47374725 4.8887496 2.0238285\n"
          ]
        },
        {
          "output_type": "stream",
          "name": "stderr",
          "text": [
            "/usr/local/lib/python3.7/dist-packages/ipykernel_launcher.py:270: DeprecationWarning: time.clock has been deprecated in Python 3.3 and will be removed from Python 3.8: use time.perf_counter or time.process_time instead\n",
            "/usr/local/lib/python3.7/dist-packages/ipykernel_launcher.py:272: DeprecationWarning: time.clock has been deprecated in Python 3.3 and will be removed from Python 3.8: use time.perf_counter or time.process_time instead\n"
          ]
        },
        {
          "output_type": "stream",
          "name": "stdout",
          "text": [
            "training, testing time 420.443489 0.5373730000000023\n",
            "attention saved, person: 9\n",
            "five losses are saved at /home/xiangzhang/scratch/activity_recognition_practice/Parkinson_seizure\n",
            "(13000, 5251) (13000, 1)\n",
            "(13000, 5252)\n",
            "(13000, 5252) (1000, 5252)\n",
            "(1000, 5250)\n",
            "(1000, 2)\n",
            "(1000, 13)\n",
            "(?, 5250)\n",
            "(?, 125, 21, 4)\n",
            "(?, 62, 10, 16) (?, 31, 5, 32) (?, 15, 2, 64) (?, 7, 2, 128) (?, 1792)\n",
            "prediction_t (?, 2)\n",
            "prediction_p Tensor(\"class_p_10/Shape:0\", shape=(2,), dtype=int32)\n"
          ]
        },
        {
          "output_type": "stream",
          "name": "stderr",
          "text": [
            "/usr/local/lib/python3.7/dist-packages/ipykernel_launcher.py:234: DeprecationWarning: time.clock has been deprecated in Python 3.3 and will be removed from Python 3.8: use time.perf_counter or time.process_time instead\n"
          ]
        },
        {
          "output_type": "stream",
          "name": "stdout",
          "text": [
            "iteration step 1\n",
            "iteration step 2\n",
            "iteration step 3\n",
            "person, step: 10 3 train acc task 0.74853843 train acc person 0.22723077 ,the test acc task 0.896 testing: AE, t 0.6345557 3.8405843\n",
            "training cost: total, AE, t, p 11.49231 0.63178915 5.4567747 2.3033576\n",
            "iteration step 4\n",
            "iteration step 5\n",
            "iteration step 6\n",
            "person, step: 10 6 train acc task 0.7696923 train acc person 0.30007693 ,the test acc task 0.911 testing: AE, t 0.58716625 3.370523\n",
            "training cost: total, AE, t, p 10.972086 0.5841404 5.235647 2.1140583\n"
          ]
        },
        {
          "output_type": "stream",
          "name": "stderr",
          "text": [
            "/usr/local/lib/python3.7/dist-packages/ipykernel_launcher.py:270: DeprecationWarning: time.clock has been deprecated in Python 3.3 and will be removed from Python 3.8: use time.perf_counter or time.process_time instead\n",
            "/usr/local/lib/python3.7/dist-packages/ipykernel_launcher.py:272: DeprecationWarning: time.clock has been deprecated in Python 3.3 and will be removed from Python 3.8: use time.perf_counter or time.process_time instead\n"
          ]
        },
        {
          "output_type": "stream",
          "name": "stdout",
          "text": [
            "training, testing time 466.188897 0.5749790000000417\n",
            "attention saved, person: 10\n",
            "five losses are saved at /home/xiangzhang/scratch/activity_recognition_practice/Parkinson_seizure\n",
            "(13000, 5251) (13000, 1)\n",
            "(13000, 5252)\n",
            "(13000, 5252) (1000, 5252)\n",
            "(1000, 5250)\n",
            "(1000, 2)\n",
            "(1000, 13)\n",
            "(?, 5250)\n",
            "(?, 125, 21, 4)\n",
            "(?, 62, 10, 16) (?, 31, 5, 32) (?, 15, 2, 64) (?, 7, 2, 128) (?, 1792)\n",
            "prediction_t (?, 2)\n",
            "prediction_p Tensor(\"class_p_11/Shape:0\", shape=(2,), dtype=int32)\n"
          ]
        },
        {
          "output_type": "stream",
          "name": "stderr",
          "text": [
            "/usr/local/lib/python3.7/dist-packages/ipykernel_launcher.py:234: DeprecationWarning: time.clock has been deprecated in Python 3.3 and will be removed from Python 3.8: use time.perf_counter or time.process_time instead\n"
          ]
        },
        {
          "output_type": "stream",
          "name": "stdout",
          "text": [
            "iteration step 1\n",
            "iteration step 2\n",
            "iteration step 3\n",
            "person, step: 11 3 train acc task 0.7636923 train acc person 0.21876924 ,the test acc task 0.6 testing: AE, t 0.32793868 7.3955927\n",
            "training cost: total, AE, t, p 11.129529 0.32905704 5.388548 2.3125956\n",
            "iteration step 4\n",
            "iteration step 5\n",
            "iteration step 6\n",
            "person, step: 11 6 train acc task 0.7636923 train acc person 0.2903077 ,the test acc task 0.6 testing: AE, t 0.300424 7.5685377\n",
            "training cost: total, AE, t, p 10.583912 0.301611 5.1316566 2.1121907\n"
          ]
        },
        {
          "output_type": "stream",
          "name": "stderr",
          "text": [
            "/usr/local/lib/python3.7/dist-packages/ipykernel_launcher.py:270: DeprecationWarning: time.clock has been deprecated in Python 3.3 and will be removed from Python 3.8: use time.perf_counter or time.process_time instead\n",
            "/usr/local/lib/python3.7/dist-packages/ipykernel_launcher.py:272: DeprecationWarning: time.clock has been deprecated in Python 3.3 and will be removed from Python 3.8: use time.perf_counter or time.process_time instead\n"
          ]
        },
        {
          "output_type": "stream",
          "name": "stdout",
          "text": [
            "training, testing time 513.544068 0.5770979999999781\n",
            "attention saved, person: 11\n",
            "five losses are saved at /home/xiangzhang/scratch/activity_recognition_practice/Parkinson_seizure\n",
            "(13000, 5251) (13000, 1)\n",
            "(13000, 5252)\n",
            "(13000, 5252) (1000, 5252)\n",
            "(1000, 5250)\n",
            "(1000, 2)\n",
            "(1000, 13)\n",
            "(?, 5250)\n",
            "(?, 125, 21, 4)\n",
            "(?, 62, 10, 16) (?, 31, 5, 32) (?, 15, 2, 64) (?, 7, 2, 128) (?, 1792)\n",
            "prediction_t (?, 2)\n",
            "prediction_p Tensor(\"class_p_12/Shape:0\", shape=(2,), dtype=int32)\n"
          ]
        },
        {
          "output_type": "stream",
          "name": "stderr",
          "text": [
            "/usr/local/lib/python3.7/dist-packages/ipykernel_launcher.py:234: DeprecationWarning: time.clock has been deprecated in Python 3.3 and will be removed from Python 3.8: use time.perf_counter or time.process_time instead\n"
          ]
        },
        {
          "output_type": "stream",
          "name": "stdout",
          "text": [
            "iteration step 1\n",
            "iteration step 2\n",
            "iteration step 3\n",
            "person, step: 12 3 train acc task 0.75323075 train acc person 0.21315384 ,the test acc task 0.778 testing: AE, t 0.34747195 5.1216893\n",
            "training cost: total, AE, t, p 10.96821 0.3526006 5.234533 2.3129554\n",
            "iteration step 4\n",
            "iteration step 5\n",
            "iteration step 6\n",
            "person, step: 12 6 train acc task 0.7710769 train acc person 0.29253846 ,the test acc task 0.79 testing: AE, t 0.314066 5.0742044\n",
            "training cost: total, AE, t, p 10.3647585 0.31855968 4.9932423 2.0526342\n"
          ]
        },
        {
          "output_type": "stream",
          "name": "stderr",
          "text": [
            "/usr/local/lib/python3.7/dist-packages/ipykernel_launcher.py:270: DeprecationWarning: time.clock has been deprecated in Python 3.3 and will be removed from Python 3.8: use time.perf_counter or time.process_time instead\n",
            "/usr/local/lib/python3.7/dist-packages/ipykernel_launcher.py:272: DeprecationWarning: time.clock has been deprecated in Python 3.3 and will be removed from Python 3.8: use time.perf_counter or time.process_time instead\n"
          ]
        },
        {
          "output_type": "stream",
          "name": "stdout",
          "text": [
            "training, testing time 561.191715 0.6027009999999109\n",
            "attention saved, person: 12\n",
            "five losses are saved at /home/xiangzhang/scratch/activity_recognition_practice/Parkinson_seizure\n",
            "(13000, 5251) (13000, 1)\n",
            "(13000, 5252)\n",
            "(13000, 5252) (1000, 5252)\n",
            "(1000, 5250)\n",
            "(1000, 2)\n",
            "(1000, 13)\n",
            "(?, 5250)\n",
            "(?, 125, 21, 4)\n",
            "(?, 62, 10, 16) (?, 31, 5, 32) (?, 15, 2, 64) (?, 7, 2, 128) (?, 1792)\n",
            "prediction_t (?, 2)\n",
            "prediction_p Tensor(\"class_p_13/Shape:0\", shape=(2,), dtype=int32)\n"
          ]
        },
        {
          "output_type": "stream",
          "name": "stderr",
          "text": [
            "/usr/local/lib/python3.7/dist-packages/ipykernel_launcher.py:234: DeprecationWarning: time.clock has been deprecated in Python 3.3 and will be removed from Python 3.8: use time.perf_counter or time.process_time instead\n"
          ]
        },
        {
          "output_type": "stream",
          "name": "stdout",
          "text": [
            "iteration step 1\n",
            "iteration step 2\n",
            "iteration step 3\n",
            "person, step: 13 3 train acc task 0.757 train acc person 0.25984615 ,the test acc task 0.815 testing: AE, t 0.40471613 4.970954\n",
            "training cost: total, AE, t, p 11.116746 0.41292822 5.3977685 2.2230535\n",
            "iteration step 4\n",
            "iteration step 5\n",
            "iteration step 6\n",
            "person, step: 13 6 train acc task 0.77646154 train acc person 0.3496154 ,the test acc task 0.815 testing: AE, t 0.37247115 4.9416156\n",
            "training cost: total, AE, t, p 10.600427 0.37984246 5.227761 1.9769002\n"
          ]
        },
        {
          "output_type": "stream",
          "name": "stderr",
          "text": [
            "/usr/local/lib/python3.7/dist-packages/ipykernel_launcher.py:270: DeprecationWarning: time.clock has been deprecated in Python 3.3 and will be removed from Python 3.8: use time.perf_counter or time.process_time instead\n"
          ]
        },
        {
          "output_type": "stream",
          "name": "stdout",
          "text": [
            "training, testing time 609.43564 0.6145369999999275\n",
            "attention saved, person: 13\n",
            "five losses are saved at /home/xiangzhang/scratch/activity_recognition_practice/Parkinson_seizure\n"
          ]
        },
        {
          "output_type": "stream",
          "name": "stderr",
          "text": [
            "/usr/local/lib/python3.7/dist-packages/ipykernel_launcher.py:272: DeprecationWarning: time.clock has been deprecated in Python 3.3 and will be removed from Python 3.8: use time.perf_counter or time.process_time instead\n"
          ]
        }
      ]
    },
    {
      "cell_type": "markdown",
      "source": [
        ""
      ],
      "metadata": {
        "id": "-nCpPzIznC6z"
      }
    }
  ]
}