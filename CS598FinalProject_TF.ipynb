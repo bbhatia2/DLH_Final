{
  "nbformat": 4,
  "nbformat_minor": 0,
  "metadata": {
    "colab": {
      "name": "CS598FinalProject_TF.ipynb",
      "provenance": [],
      "collapsed_sections": [],
      "include_colab_link": true
    },
    "kernelspec": {
      "name": "python3",
      "display_name": "Python 3"
    },
    "language_info": {
      "name": "python"
    },
    "accelerator": "GPU"
  },
  "cells": [
    {
      "cell_type": "markdown",
      "metadata": {
        "id": "view-in-github",
        "colab_type": "text"
      },
      "source": [
        "<a href=\"https://colab.research.google.com/github/bbhatia2/DLH_Final/blob/main/CS598FinalProject_TF.ipynb\" target=\"_parent\"><img src=\"https://colab.research.google.com/assets/colab-badge.svg\" alt=\"Open In Colab\"/></a>"
      ]
    },
    {
      "cell_type": "code",
      "execution_count": 1,
      "metadata": {
        "id": "rgE5QXcCiYGF",
        "colab": {
          "base_uri": "https://localhost:8080/",
          "height": 0
        },
        "outputId": "e734b6eb-9b8a-4029-ec83-9aede5cca2e1"
      },
      "outputs": [
        {
          "output_type": "stream",
          "name": "stdout",
          "text": [
            "TensorFlow 1.x selected.\n"
          ]
        }
      ],
      "source": [
        "from __future__ import print_function\n",
        "%tensorflow_version 1.x\n",
        "import tensorflow as tf\n",
        "import numpy as np\n",
        "import time\n",
        "import pickle\n",
        "from sklearn import preprocessing"
      ]
    },
    {
      "cell_type": "code",
      "source": [
        "#Bahaar's code cell - ignore\n",
        "#source: https://stackoverflow.com/questions/51869713/how-to-read-edf-data-in-python-3\n",
        "#import mne\n",
        "#file = \"my_path\\\\my_file.edf\" #how do you add file\n",
        "#data = mne.io.read_raw_edf(file)\n",
        "#raw_data = data.get_data()\n",
        "# you can get the metadata included in the file and a list of all channels:\n",
        "#info = data.info\n",
        "#channels = data.ch_names\n",
        "\n",
        "from google.colab import drive\n",
        "import os\n",
        "drive.mount('/content/gdrive', force_remount=True)\n",
        "\n",
        "root_dir = \"/content/gdrive/My\\ Drive/\"\n",
        "\n",
        "os.chdir(\"/content/gdrive/My Drive/unzipped_all_14sub.zip/\")\n",
        "os.listdir()\n",
        "!pwd\n",
        "!ls\n",
        "\n",
        "#base_dir = root_dir + 'my-images/'"
      ],
      "metadata": {
        "colab": {
          "base_uri": "https://localhost:8080/",
          "height": 0
        },
        "id": "31LI1RcR6vEn",
        "outputId": "fd09b436-6536-4c22-a1d0-00d0fc6dc8d2"
      },
      "execution_count": 2,
      "outputs": [
        {
          "output_type": "stream",
          "name": "stdout",
          "text": [
            "Mounted at /content/gdrive\n",
            "/content/gdrive/My Drive/unzipped_all_14sub.zip\n",
            "all_14sub.p\n"
          ]
        }
      ]
    },
    {
      "cell_type": "code",
      "source": [
        "# #Akarsh's code cell \n",
        "# #!pwd\n",
        "# #!ls gdrive/MyDrive/\n",
        "# import os\n",
        "# path = \"/content/gdrive/MyDrive/\"\n",
        "# os.chdir(path)\n"
      ],
      "metadata": {
        "id": "QRTqAE8EEAJQ"
      },
      "execution_count": 3,
      "outputs": []
    },
    {
      "cell_type": "code",
      "source": [
        "def one_hot(y_):\n",
        "    # Function to encode output labels from number indexes\n",
        "    # e.g.: [[5], [0], [3]] --> [[0, 0, 0, 0, 0, 1], [1, 0, 0, 0, 0, 0], [0, 0, 0, 1, 0, 0]]\n",
        "    y_ = y_.reshape(len(y_))\n",
        "    y_ = [int(x) for x in y_]\n",
        "    n_values = np.max(y_) + 1\n",
        "    return np.eye(n_values)[np.array(y_, dtype=np.int32)]"
      ],
      "metadata": {
        "id": "OWZn83-kilCN"
      },
      "execution_count": 4,
      "outputs": []
    },
    {
      "cell_type": "code",
      "source": [
        "def extract(input, n_fea, time_window, moving):\n",
        "    global n_classes\n",
        "    xx = input[:, :n_fea]\n",
        "    yy = input[:, n_fea:n_fea + 1]\n",
        "    new_x = []\n",
        "    new_y = []\n",
        "    number = int((xx.shape[0] / moving) - 1)\n",
        "    for i in range(number):\n",
        "        ave_y = np.average(yy[int(i * moving):int(i * moving + time_window)])\n",
        "        if ave_y in range(n_classes + 1):\n",
        "            new_x.append(xx[int(i * moving):int(i * moving + time_window), :])\n",
        "            new_y.append(ave_y)\n",
        "        else:\n",
        "            new_x.append(xx[int(i * moving):int(i * moving + time_window), :])\n",
        "            new_y.append(0)\n",
        "\n",
        "    new_x = np.array(new_x)\n",
        "    new_x = new_x.reshape([-1, n_fea * time_window])\n",
        "    new_y = np.array(new_y)\n",
        "    new_y.shape = [new_y.shape[0], 1]\n",
        "    data = np.hstack((new_x, new_y))\n",
        "    data = np.vstack((data, data[-1]))  # add the last sample again, to make the sample number round\n",
        "    return data"
      ],
      "metadata": {
        "id": "RaU3Jmkpm-w9"
      },
      "execution_count": 5,
      "outputs": []
    },
    {
      "cell_type": "code",
      "source": [
        "def compute_accuracy_t(v_xs, v_ys):  # this function only calculate the acc of CNN_task\n",
        "    global prediction_t\n",
        "    y_pre = sess.run(prediction_t, feed_dict={xs: v_xs, keep_prob: keep})\n",
        "    correct_prediction = tf.equal(tf.argmax(y_pre, 1), tf.argmax(v_ys, 1))\n",
        "    accuracy = tf.reduce_mean(tf.cast(correct_prediction, tf.float32))\n",
        "    result = sess.run(accuracy, feed_dict={xs: v_xs, ys_t: v_ys, keep_prob: keep})\n",
        "    return result"
      ],
      "metadata": {
        "id": "zPPwL30tnD-x"
      },
      "execution_count": 6,
      "outputs": []
    },
    {
      "cell_type": "code",
      "source": [
        "def compute_accuracy_p(v_xs, v_ys):  # this function only calculate the acc of CNN_task\n",
        "    global prediction_p\n",
        "    y_pre = sess.run(prediction_p, feed_dict={xs: v_xs, keep_prob: keep})\n",
        "    correct_prediction = tf.equal(tf.argmax(y_pre,1), tf.argmax(v_ys,1))\n",
        "    accuracy = tf.reduce_mean(tf.cast(correct_prediction, tf.float32))\n",
        "    result = sess.run(accuracy, feed_dict={xs: v_xs, ys_p: v_ys, keep_prob: keep})\n",
        "    return result"
      ],
      "metadata": {
        "id": "0lB7lVO5nH2r"
      },
      "execution_count": 7,
      "outputs": []
    },
    {
      "cell_type": "code",
      "source": [
        "# # WoW! use this to limit the GPU number\n",
        "# import os\n",
        "# GPU_ID = 2\n",
        "# os.environ['CUDA_VISIBLE_DEVICES'] = str(GPU_ID)\n",
        "# print('Let`s start!, GPU:', GPU_ID)\n",
        "!cd /home/\n",
        "!pwd\n",
        "!ls /content\n"
      ],
      "metadata": {
        "id": "hzPYCT3anL9e",
        "colab": {
          "base_uri": "https://localhost:8080/",
          "height": 0
        },
        "outputId": "b8df8669-ca36-4c41-e9c8-efc8d772f7ec"
      },
      "execution_count": 8,
      "outputs": [
        {
          "output_type": "stream",
          "name": "stdout",
          "text": [
            "/content/gdrive/My Drive/unzipped_all_14sub.zip\n",
            "gdrive\tsample_data\n"
          ]
        }
      ]
    },
    {
      "cell_type": "code",
      "source": [
        "# data reading\n",
        "# python 3: add ',encoding='iso-8859-1'' in the pickle.load.\n",
        "import pickle\n",
        "#Bahaar's path\n",
        "all_data = pickle.load(open(\"/content/gdrive/My Drive/unzipped_all_14sub.zip/all_14sub.p\", \"rb\" ), encoding='iso-8859-1')\n",
        "#Akarsh's path\n",
        "#all_data = pickle.load(open(\"/content/gdrive/MyDrive/all_14sub.p\", \"rb\" ), encoding='iso-8859-1')\n",
        "print(type(all_data), all_data.shape, all_data[:, -1])\n",
        "\n",
        "n_classes = 2\n",
        "n_person_ = 13  # the number of training subjects\n",
        "sample_persub = 250*500  # we have overlapping now\n",
        "print(type(all_data), all_data.shape, all_data[:, -1])\n",
        "\n",
        "no_fea = 21  # data.shape[-1] - 1\n",
        "seg_length = 250  # # 255 for raw data, 96 for layer 23, 64 for layer 2, 32 for layer 2\n",
        "\n",
        "scaler = preprocessing.MinMaxScaler()  # normalization\n",
        "F = scaler.fit_transform(all_data[:, :no_fea])  # scale to [0, 1]\n",
        "\n",
        "all_data = np.hstack((F, all_data[:, no_fea:no_fea+1]))  # only use the task ID\n"
      ],
      "metadata": {
        "id": "e9Vc9FudnQMz",
        "colab": {
          "base_uri": "https://localhost:8080/",
          "height": 0
        },
        "outputId": "7f2cff31-757d-4fd3-9919-2f5d369c6836"
      },
      "execution_count": 9,
      "outputs": [
        {
          "output_type": "stream",
          "name": "stdout",
          "text": [
            "<class 'numpy.ndarray'> (1750000, 23) [ 2.  2.  2. ... 17. 17. 17.]\n",
            "<class 'numpy.ndarray'> (1750000, 23) [ 2.  2.  2. ... 17. 17. 17.]\n"
          ]
        }
      ]
    },
    {
      "cell_type": "code",
      "source": [
        "\"\"\"Make person label\"\"\"\n",
        "n_sample_ = int(2*sample_persub/seg_length )  # the number of sampls of each subject after reshape\n",
        "ll = np.ones([n_sample_, 1])*0\n",
        "for hh in range(1, n_person_):\n",
        "    ll_new = np.ones([n_sample_, 1])*hh\n",
        "    ll = np.vstack((ll, ll_new))\n",
        "print('the shape of maked person label', ll.shape)\n",
        "\n",
        "ll_test = np.ones([n_sample_, 1])*n_person_\n",
        "\n",
        "ss_train = time.clock()\n",
        "# Person Independent"
      ],
      "metadata": {
        "id": "hWlcBBwUnhou",
        "colab": {
          "base_uri": "https://localhost:8080/",
          "height": 0
        },
        "outputId": "39147baa-4412-4e68-809c-339d6c527653"
      },
      "execution_count": 10,
      "outputs": [
        {
          "output_type": "stream",
          "name": "stdout",
          "text": [
            "the shape of maked person label (13000, 1)\n"
          ]
        },
        {
          "output_type": "stream",
          "name": "stderr",
          "text": [
            "/usr/local/lib/python3.7/dist-packages/ipykernel_launcher.py:11: DeprecationWarning: time.clock has been deprecated in Python 3.3 and will be removed from Python 3.8: use time.perf_counter or time.process_time instead\n",
            "  # This is added back by InteractiveShellApp.init_path()\n"
          ]
        }
      ]
    },
    {
      "cell_type": "code",
      "source": [
        "\n",
        "\n",
        "for P_ID in range(14):  # n_person_++1\n",
        "    if P_ID==0:\n",
        "        reuse=False\n",
        "    else:\n",
        "        reuse=True\n",
        "    \"\"\"Select train and test subject\"\"\"\n",
        "    data_ = all_data[sample_persub*P_ID:sample_persub*(P_ID+1)]\n",
        "\n",
        "    list = range(sample_persub*P_ID, sample_persub*(P_ID+1))\n",
        "    data = np.delete(all_data, list, axis=0)\n",
        "    # overlap\n",
        "    train_data = extract(data, n_fea=no_fea, time_window=seg_length, moving=(seg_length/2))\n",
        "    test_data = extract(data_, n_fea=no_fea, time_window=seg_length, moving=(seg_length/2))  # 50% overlapping\n",
        "    # continue\n",
        "    \"\"\"Replace the original person data by the maked data\"\"\"\n",
        "    no_fea_long = train_data.shape[-1] - 1  # here is - 2, because has two IDs\n",
        "    print(train_data[:, :no_fea_long+1].shape, ll.shape)\n",
        "    train_data = np.hstack((train_data[:, :no_fea_long+1], ll))\n",
        "    test_data = np.hstack((test_data[:, :no_fea_long + 1], ll_test))\n",
        "    print(train_data.shape)\n",
        "    np.random.shuffle(train_data)\n",
        "    np.random.shuffle(test_data)\n",
        "    print(train_data.shape, test_data.shape)\n",
        "\n",
        "    feature_train = train_data[:, :no_fea_long]\n",
        "    feature_test = test_data[:, :no_fea_long]\n",
        "    label_train_t = train_data[:, no_fea_long:no_fea_long + 1]\n",
        "    label_test_t = test_data[:, no_fea_long:no_fea_long + 1]\n",
        "    label_train_p = train_data[:, no_fea_long + 1:no_fea_long + 2]\n",
        "\n",
        "    label_train_t = one_hot(label_train_t)\n",
        "    label_test_t = one_hot(label_test_t)\n",
        "    label_train_p = one_hot(label_train_p)\n",
        "\n",
        "\n",
        "    n_class_t = 2  # 0-3\n",
        "    n_class_p = n_person_  # 0-8\n",
        "    keep = 0.8\n",
        "\n",
        "    a = feature_train\n",
        "\n",
        "    ## batch split\n",
        "    batch_size = int(feature_test.shape[0])\n",
        "    train_fea = []\n",
        "    n_group = int(feature_train.shape[0]/feature_test.shape[0])\n",
        "    for i in range(n_group):\n",
        "        f = a[(0+batch_size*i):(batch_size+batch_size*i)]\n",
        "        train_fea.append(f)\n",
        "    print (train_fea[0].shape)\n",
        "\n",
        "    train_label_t=[]\n",
        "    for i in range(n_group):\n",
        "        f = label_train_t[(0 + batch_size * i):(batch_size + batch_size * i), :]\n",
        "        train_label_t.append(f)\n",
        "    print (train_label_t[0].shape)\n",
        "\n",
        "    train_label_p = []\n",
        "    for i in range(n_group):\n",
        "        f = label_train_p[(0 + batch_size * i):(batch_size + batch_size * i), :]\n",
        "        train_label_p.append(f)\n",
        "    print (train_label_p[0].shape)\n",
        "\n",
        "    \"\"\"Placeholder\"\"\"\n",
        "    # define placeholder for inputs to network\n",
        "    tf.compat.v1.disable_eager_execution()\n",
        "\n",
        "    xs = tf.compat.v1.placeholder(tf.float32, [None, no_fea_long], name = 'xsss')  # 249*100\n",
        "    ys_t = tf.compat.v1.placeholder(tf.float32, [None, n_class_t], name='ys_t')\n",
        "    ys_p = tf.compat.v1.placeholder(tf.float32, [None, n_class_p], name='ys_p')\n",
        "    keep_prob = tf.compat.v1.placeholder(tf.float32, name='keep')\n",
        "\n",
        "    \"\"\"AE code, whihc is divided into two represents\"\"\"\n",
        "    \"\"\"Use tf.nn.relu in the hidden layer if maxmin scaler; sigmoid if z-score;\n",
        "    use maxmin, AE converge better but the classification training acc cannot reach 100%;\n",
        "    use z-score, the opposite. I perfer z-score. Or use maxmin, make the network deeper?\n",
        "    \"\"\"\n",
        "    \"\"\"Convolutional AE\"\"\"\n",
        "    with tf.compat.v1.variable_scope(\"AE\", reuse=reuse):\n",
        "        # dim_code = 1000\n",
        "        input = tf.reshape(xs, [-1, seg_length, no_fea, 1])  # [200, 14]\n",
        "        input = tf.contrib.layers.batch_norm(input, decay=0.9)\n",
        "        input = tf.nn.dropout(input, keep_prob)\n",
        "        l_AE, w_AE = 2, 1\n",
        "        print(xs.shape)  # [n_samples, 28,28,1]\n",
        "\n",
        "        depth_AE = 4  # default is 8\n",
        "        conv1 = tf.layers.conv2d(inputs=input, filters=depth_AE, kernel_size=[2, 2], padding=\"same\",\n",
        "                                 activation=tf.nn.relu)\n",
        "        h_t = tf.layers.max_pooling2d(inputs=conv1, pool_size=[l_AE, w_AE], strides=[l_AE, w_AE])\n",
        "        # pool1 = tf.contrib.layers.batch_norm(pool1, decay=0.9)\n",
        "\n",
        "        conv1_p = tf.layers.conv2d(inputs=input, filters=depth_AE, kernel_size=[2, 2], padding=\"same\",\n",
        "                                   activation=tf.nn.relu)\n",
        "        h_p = tf.layers.max_pooling2d(inputs=conv1_p, pool_size=[l_AE, w_AE], strides=[l_AE, w_AE])\n",
        "\n",
        "        # decoder\n",
        "        output_t = tf.layers.conv2d_transpose(h_t, kernel_size=5, filters=1, strides=[l_AE, w_AE], padding='same')\n",
        "        # output_t = tf.nn.relu(tf.contrib.layers.batch_norm(output_t, decay=0.9))\n",
        "        output_p = tf.layers.conv2d_transpose(h_p, kernel_size=5, filters=1, strides=[l_AE, w_AE], padding='same')\n",
        "        # output_p = tf.nn.relu(tf.contrib.layers.batch_norm(output_p, decay=0.9))\n",
        "        output = (output_t + output_p) / 2\n",
        "\n",
        "        # #another decoder\n",
        "        # h = (h_t + h_p)/2\n",
        "        # output = tf.layers.conv2d_transpose(h, kernel_size=5, filters=1, strides=[l_AE, w_AE], padding='same')\n",
        "        # output = tf.nn.relu(tf.contrib.layers.batch_norm(output, decay=0.9))\n",
        "\n",
        "        output = tf.reshape(output, [-1, seg_length * no_fea])\n",
        "\n",
        "    \"\"\"CNN code for task, maybe we can make it deeper? \"\"\"\n",
        "    l_1, w_1 = 2, 2\n",
        "    l_2, w_2 = 2, 2\n",
        "    l_3, w_3 = 2, 2\n",
        "    l_4, w_4 = 2, 1\n",
        "\n",
        "    with tf.compat.v1.variable_scope(\"class_t\", reuse=reuse):\n",
        "        # x_image_t = tf.reshape(h_t, [-1, 10, 10, 1])  # [200, 14]\n",
        "        x_image_t = tf.contrib.layers.batch_norm(h_t, decay=0.9)\n",
        "\n",
        "        # x_image_t = tf.nn.dropout(x_image_t, keep_prob)\n",
        "        print(x_image_t.shape)  # [n_samples, 28,28,1]\n",
        "        depth_1 = 16  # default is 8\n",
        "        conv1 = tf.layers.conv2d(inputs=x_image_t, filters=depth_1, kernel_size=[3, 3], padding=\"same\", activation=tf.nn.relu)\n",
        "        pool1 = tf.layers.max_pooling2d(inputs=conv1, pool_size=[l_1, w_1], strides=[l_1, w_1])\n",
        "        pool1 = tf.contrib.layers.batch_norm(pool1, decay=0.9)\n",
        "\n",
        "        depth_2 = 32  # default is 32\n",
        "        conv2 = tf.layers.conv2d(inputs=pool1, filters=depth_2, kernel_size=[3, 3], padding=\"same\", activation=tf.nn.relu)\n",
        "        pool2 = tf.layers.max_pooling2d(inputs=conv2, pool_size=[l_2, w_2], strides=[l_2, w_2])\n",
        "        pool2 = tf.contrib.layers.batch_norm(pool2, decay=0.9)\n",
        "\n",
        "        depth_3 = 64\n",
        "        conv3 = tf.layers.conv2d(inputs=pool2, filters=depth_3, kernel_size=[2, 2], padding=\"same\", activation=tf.nn.relu)\n",
        "        pool3 = tf.layers.max_pooling2d(inputs=conv3, pool_size=[l_3, w_3], strides=[l_3, w_3])\n",
        "        pool3 = tf.contrib.layers.batch_norm(pool3, decay=0.9)\n",
        "        # print(pool1.get_shape(), pool2.get_shape(), pool3.get_shape(),)\n",
        "\n",
        "        depth_4 = 128\n",
        "        conv4 = tf.layers.conv2d(inputs=pool3, filters=depth_4, kernel_size=[2, 2], padding=\"same\", activation=tf.nn.relu)\n",
        "        pool4 = tf.layers.max_pooling2d(inputs=conv4, pool_size=[l_4, w_4], strides=[l_4, w_4])\n",
        "        pool4 = tf.contrib.layers.batch_norm(pool4, decay=0.9)\n",
        "\n",
        "        fc1 = tf.contrib.layers.flatten(pool4)  # flatten the pool 2\n",
        "        print(pool1.get_shape(), pool2.get_shape(), pool3.get_shape(),  pool4.get_shape(), fc1.get_shape())\n",
        "\n",
        "\n",
        "        # \"\"\"Add another FC layer\"\"\"\n",
        "        fc1 = tf.layers.dense(fc1, units=300, activation=tf.nn.sigmoid)\n",
        "        fc1 = tf.nn.dropout(fc1, keep_prob)\n",
        "\n",
        "        dim_hidden = 21\n",
        "        fc3 = tf.layers.dense(fc1, units=dim_hidden, activation=tf.nn.sigmoid)\n",
        "        fc3 = tf.nn.dropout(fc3, keep_prob)\n",
        "\n",
        "        # Attention layer\n",
        "        att = tf.layers.dense(xs, units=fc3.shape[-1], activation=tf.nn.sigmoid)\n",
        "        fc3 = tf.multiply(fc3, att)\n",
        "\n",
        "        prediction_t = tf.layers.dense(fc3, units=n_class_t, activation=None)\n",
        "        print('prediction_t', prediction_t.get_shape())\n",
        "\n",
        "    \"\"\"CNN code for person\"\"\"\n",
        "    with tf.compat.v1.variable_scope(\"class_p\", reuse=reuse):\n",
        "        x_image_p = tf.contrib.layers.batch_norm(h_p, decay=0.9)\n",
        "\n",
        "        conv1_p = tf.layers.conv2d(inputs=x_image_p, filters=depth_1, kernel_size=[3, 3], padding=\"same\", activation=tf.nn.relu)\n",
        "        pool1_p = tf.layers.max_pooling2d(inputs=conv1_p, pool_size=[l_1, w_1], strides=[l_1, w_1])\n",
        "        pool1_p = tf.contrib.layers.batch_norm(pool1_p, decay=0.9)\n",
        "\n",
        "        conv2_p = tf.layers.conv2d(inputs=pool1_p, filters=depth_2, kernel_size=[3, 3], padding=\"same\", activation=tf.nn.relu)\n",
        "        pool2_p = tf.layers.max_pooling2d(inputs=conv2_p, pool_size=[l_2, w_2], strides=[l_2, w_2])\n",
        "        pool2_p = tf.contrib.layers.batch_norm(pool2_p, decay=0.9)\n",
        "\n",
        "        conv3_p = tf.layers.conv2d(inputs=pool2_p, filters=depth_2, kernel_size=[2, 2], padding=\"same\",\n",
        "                                   activation=tf.nn.relu)\n",
        "        pool3_p = tf.layers.max_pooling2d(inputs=conv3_p, pool_size=[l_3, w_3], strides=[l_3, w_3])\n",
        "        pool3_p = tf.contrib.layers.batch_norm(pool3_p, decay=0.9)\n",
        "\n",
        "        conv4_p = tf.layers.conv2d(inputs=pool3_p, filters=depth_4, kernel_size=[2, 2], padding=\"same\", activation=tf.nn.relu)\n",
        "        pool4_p = tf.layers.max_pooling2d(inputs=conv4_p, pool_size=[l_4, w_4], strides=[l_4, w_4])\n",
        "        pool4_p = tf.contrib.layers.batch_norm(pool4_p, decay=0.9)\n",
        "\n",
        "        fc1_p = tf.contrib.layers.flatten(pool4_p)  # flatten the pool 2\n",
        "\n",
        "        dim_hidden_p = 200\n",
        "        fc3_p = tf.layers.dense(fc1_p, units=dim_hidden_p, activation=tf.nn.sigmoid)\n",
        "\n",
        "        fc3_p = tf.nn.dropout(fc3_p, keep_prob)\n",
        "\n",
        "        prediction_p = tf.layers.dense(fc3_p, units=n_class_p, activation=None)\n",
        "        print('prediction_p', tf.shape(prediction_p))\n",
        "\n",
        "    def kl_divergence(p, q):\n",
        "        return tf.reduce_sum(p * tf.log(p/q))\n",
        "\n",
        "\n",
        "    \"\"\"cost calculation\"\"\"\n",
        "    train_vars = tf.trainable_variables()\n",
        "    l2_AE = 0.005 * sum(tf.nn.l2_loss(var) for var in tf.trainable_variables() if var.name.startswith(\"AE\"))\n",
        "    l2_class = 0.005 * sum(tf.nn.l2_loss(var) for var in tf.trainable_variables() if var.name.startswith(\"class\"))\n",
        "    \"\"\"multiply 5 to enhance the cross_entropy_t \"\"\"\n",
        "    cross_entropy_t = 10*tf.reduce_mean(tf.nn.softmax_cross_entropy_with_logits(logits=prediction_t, labels=ys_t))\n",
        "    cross_entropy_p = tf.reduce_mean(tf.nn.softmax_cross_entropy_with_logits(logits=prediction_p, labels=ys_p))\n",
        "    \"\"\"Add 0.1 to reduce the cost_AE\"\"\"\n",
        "    cost_AE = tf.reduce_mean(tf.pow(xs - output, 2)) + l2_AE\n",
        "\n",
        "    class_vars = [var for var in train_vars if var.name.startswith(\"class\")]  # discriminator tensor\n",
        "    AE_vars = [var for var in train_vars if var.name.startswith(\"AE\")]\n",
        "    t_vars = [var for var in train_vars if var.name.startswith(\"class_t\")]\n",
        "\n",
        "    cost = cost_AE  + cross_entropy_t +   cross_entropy_p + l2_class + l2_AE\n",
        "    lr = 0.00005  # use 0.0001 for parameter tuning\n",
        "    with tf.compat.v1.variable_scope(\"optimization\", reuse=reuse):\n",
        "        train_step_task = tf.train.AdamOptimizer(lr).minimize(cost, )\n",
        "        # train_step_AE = tf.train.AdamOptimizer(lr).minimize(cost_AE+l2_AE, var_list=AE_vars)\n",
        "        train_step_t = tf.train.AdamOptimizer(lr).minimize(cross_entropy_t)\n",
        "    # 1. AE learning rate= 0.00001 2. dim_code larger better, 3. add cost_AE on cost.\n",
        "\n",
        "    con = tf.ConfigProto()\n",
        "    con.gpu_options.allow_growth = True\n",
        "    sess = tf.Session(config=con)\n",
        "    init = tf.global_variables_initializer()\n",
        "    sess.run(init)\n",
        "    # History records of loss functions\n",
        "    cost_his = []\n",
        "    cost_AE_his = []\n",
        "    cost_t_his = []\n",
        "    cost_p_his = []\n",
        "\n",
        "    test_cost_t_his = []\n",
        "\n",
        "    start=time.clock()\n",
        "    step = 1\n",
        "    while step < 81:  # 251 iterations\n",
        "        #print('iteration step', step)\n",
        "        for i in range(n_group):\n",
        "            feed = {xs: train_fea[i], ys_t: train_label_t[i], ys_p: train_label_p[i], keep_prob:keep}\n",
        "            sess.run(train_step_task, feed_dict=feed)\n",
        "            sess.run(train_step_t, feed_dict=feed)\n",
        "\n",
        "        if step % 10 == 0:\n",
        "            #\"\"\"training cost\"\"\"\n",
        "            cost_, cost_AE_, cross_entropy_p_, cross_entropy_t_=sess.run([cost, cost_AE, cross_entropy_p, cross_entropy_t],\n",
        "                                                                         feed_dict={xs: train_fea[0],\n",
        "                                             ys_t: train_label_t[0], ys_p: train_label_p[0], keep_prob:keep})\n",
        "\n",
        "            #\"\"\"testing cost\"\"\"\n",
        "            cost_AE_test_, cross_entropy_t_test_=sess.run([cost_AE, cross_entropy_t],\n",
        "                                                          feed_dict ={xs: feature_test, ys_t: label_test_t, keep_prob: keep})\n",
        "\n",
        "            print('person, step:',P_ID, step, 'train acc task', compute_accuracy_t(feature_train, label_train_t),\n",
        "                  'train acc person', compute_accuracy_p(feature_train, label_train_p),\n",
        "                  ',the test acc task', compute_accuracy_t(feature_test, label_test_t),\n",
        "                  'testing: AE, t', cost_AE_test_, cross_entropy_t_test_)\n",
        "\n",
        "            print('training cost: total, AE, t, p',cost_, cost_AE_,  cross_entropy_t_, cross_entropy_p_)\n",
        "            cost_his.append(cost_)\n",
        "            cost_AE_his.append(cost_AE_)\n",
        "            cost_t_his.append(cross_entropy_t_)\n",
        "            cost_p_his.append(cross_entropy_p_)\n",
        "\n",
        "            test_cost_t_his.append(cross_entropy_t_test_)\n",
        "\n",
        "        # save the attention weights for fine-grained analysis\n",
        "        if step % 80 == 0:\n",
        "            att_ = sess.run(att, feed_dict={xs: feature_test, ys_t: label_test_t, keep_prob: keep})\n",
        "\n",
        "            ss = time.clock()\n",
        "            pred = sess.run(prediction_t, feed_dict={xs: feature_test, ys_t: label_test_t, keep_prob: keep})\n",
        "            print('training, testing time', time.clock()-ss_train, time.clock()-ss)\n",
        "            \n",
        "            pickle.dump(att_,  open('/content/gdrive/My Drive/TUH_attention_p'\n",
        "                                    +str(step)+'_backup.p',  \"wb\"), protocol=2) #/home/xiangzhang/scratch/activity_recognition_practice/Parkinson_seizure/TUH_attention_P\n",
        "            print('attention saved, person:', P_ID)\n",
        "\n",
        "        step += 1\n",
        "\n",
        "    # save the cost history values for convergence analysis\n",
        "    pickle.dump(cost_his, open('/content/gdrive/My Drive/cost_his.p', \"wb\"))\n",
        "    pickle.dump(cost_AE_his,\n",
        "                 open('/content/gdrive/My Drive/cost_AE_his.p', \"wb\")) #home/xiangzhang/scratch/activity_recognition_practice/Parkinson_seizure/cost_AE_his.p\n",
        "    pickle.dump(cost_t_his,\n",
        "                 open('/content/gdrive/My Drive/cost_t_his.p', \"wb\")) #/home/xiangzhang/scratch/activity_recognition_practice/Parkinson_seizure/cost_t_his.p\n",
        "    pickle.dump(cost_p_his,\n",
        "                 open('/content/gdrive/My Drive/cost_p_his.p', \"wb\")) #/home/xiangzhang/scratch/activity_recognition_practice/Parkinson_seizure/cost_p_his.p\n",
        "    pickle.dump(test_cost_t_his,\n",
        "                 open('/content/gdrive/My Drive/test_cost_t_his.p', \"wb\")) #/home/xiangzhang/scratch/activity_recognition_practice/Parkinson_seizure/test_cost_t_his.p\n",
        "    print(\"five losses are saved at /home/xiangzhang/scratch/activity_recognition_practice/Parkinson_seizure\")"
      ],
      "metadata": {
        "id": "h_5kwRjunn9Y",
        "colab": {
          "base_uri": "https://localhost:8080/",
          "height": 0
        },
        "outputId": "d2fe41a9-88fc-4053-f897-0cdb98cb088b"
      },
      "execution_count": 11,
      "outputs": [
        {
          "metadata": {
            "tags": null
          },
          "name": "stdout",
          "output_type": "stream",
          "text": [
            "(13000, 5251) (13000, 1)\n",
            "(13000, 5252)\n",
            "(13000, 5252) (1000, 5252)\n",
            "(1000, 5250)\n",
            "(1000, 2)\n",
            "(1000, 13)\n",
            "WARNING:tensorflow:\n",
            "The TensorFlow contrib module will not be included in TensorFlow 2.0.\n",
            "For more information, please see:\n",
            "  * https://github.com/tensorflow/community/blob/master/rfcs/20180907-contrib-sunset.md\n",
            "  * https://github.com/tensorflow/addons\n",
            "  * https://github.com/tensorflow/io (for I/O related ops)\n",
            "If you depend on functionality not listed there, please file an issue.\n",
            "\n",
            "WARNING:tensorflow:From /tensorflow-1.15.2/python3.7/tensorflow_core/contrib/layers/python/layers/layers.py:650: Layer.apply (from tensorflow.python.keras.engine.base_layer) is deprecated and will be removed in a future version.\n",
            "Instructions for updating:\n",
            "Please use `layer.__call__` method instead.\n",
            "WARNING:tensorflow:From <ipython-input-11-c565ddb28383>:84: calling dropout (from tensorflow.python.ops.nn_ops) with keep_prob is deprecated and will be removed in a future version.\n",
            "Instructions for updating:\n",
            "Please use `rate` instead of `keep_prob`. Rate should be set to `rate = 1 - keep_prob`.\n",
            "(?, 5250)\n",
            "WARNING:tensorflow:From <ipython-input-11-c565ddb28383>:90: conv2d (from tensorflow.python.layers.convolutional) is deprecated and will be removed in a future version.\n",
            "Instructions for updating:\n",
            "Use `tf.keras.layers.Conv2D` instead.\n",
            "WARNING:tensorflow:From <ipython-input-11-c565ddb28383>:91: max_pooling2d (from tensorflow.python.layers.pooling) is deprecated and will be removed in a future version.\n",
            "Instructions for updating:\n",
            "Use keras.layers.MaxPooling2D instead.\n",
            "WARNING:tensorflow:From <ipython-input-11-c565ddb28383>:99: conv2d_transpose (from tensorflow.python.layers.convolutional) is deprecated and will be removed in a future version.\n",
            "Instructions for updating:\n",
            "Use `tf.keras.layers.Conv2DTranspose` instead.\n",
            "(?, 125, 21, 4)\n",
            "WARNING:tensorflow:From /tensorflow-1.15.2/python3.7/tensorflow_core/contrib/layers/python/layers/layers.py:1634: flatten (from tensorflow.python.layers.core) is deprecated and will be removed in a future version.\n",
            "Instructions for updating:\n",
            "Use keras.layers.flatten instead.\n",
            "(?, 62, 10, 16) (?, 31, 5, 32) (?, 15, 2, 64) (?, 7, 2, 128) (?, 1792)\n",
            "WARNING:tensorflow:From <ipython-input-11-c565ddb28383>:150: dense (from tensorflow.python.layers.core) is deprecated and will be removed in a future version.\n",
            "Instructions for updating:\n",
            "Use keras.layers.Dense instead.\n",
            "prediction_t (?, 2)\n",
            "prediction_p Tensor(\"class_p/Shape:0\", shape=(2,), dtype=int32)\n",
            "WARNING:tensorflow:From <ipython-input-11-c565ddb28383>:204: softmax_cross_entropy_with_logits (from tensorflow.python.ops.nn_ops) is deprecated and will be removed in a future version.\n",
            "Instructions for updating:\n",
            "\n",
            "Future major versions of TensorFlow will allow gradients to flow\n",
            "into the labels input on backprop by default.\n",
            "\n",
            "See `tf.nn.softmax_cross_entropy_with_logits_v2`.\n",
            "\n",
            "WARNING:tensorflow:From /tensorflow-1.15.2/python3.7/tensorflow_core/python/ops/math_grad.py:1375: where (from tensorflow.python.ops.array_ops) is deprecated and will be removed in a future version.\n",
            "Instructions for updating:\n",
            "Use tf.where in 2.0, which has the same broadcast rule as np.where\n"
          ]
        },
        {
          "metadata": {
            "tags": null
          },
          "name": "stderr",
          "output_type": "stream",
          "text": [
            "/usr/local/lib/python3.7/dist-packages/ipykernel_launcher.py:234: DeprecationWarning: time.clock has been deprecated in Python 3.3 and will be removed from Python 3.8: use time.perf_counter or time.process_time instead\n"
          ]
        },
        {
          "metadata": {
            "tags": null
          },
          "name": "stdout",
          "output_type": "stream",
          "text": [
            "person, step: 0 10 train acc task 0.7876923 train acc person 0.35084614 ,the test acc task 0.81 testing: AE, t 0.38576674 4.5267673\n",
            "training cost: total, AE, t, p 10.153784 0.3794348 4.873458 1.962121\n",
            "person, step: 0 20 train acc task 0.8147692 train acc person 0.441 ,the test acc task 0.822 testing: AE, t 0.2888962 4.479645\n",
            "training cost: total, AE, t, p 9.217756 0.2814971 4.5745306 1.6207138\n",
            "person, step: 0 30 train acc task 0.82453847 train acc person 0.5126154 ,the test acc task 0.814 testing: AE, t 0.22071429 4.6154046\n",
            "training cost: total, AE, t, p 8.385537 0.21246253 4.203146 1.4139563\n",
            "person, step: 0 40 train acc task 0.83715385 train acc person 0.56646156 ,the test acc task 0.8 testing: AE, t 0.1733849 4.8051143\n",
            "training cost: total, AE, t, p 7.6164184 0.16447286 3.8150368 1.247415\n",
            "person, step: 0 50 train acc task 0.8499231 train acc person 0.6269231 ,the test acc task 0.812 testing: AE, t 0.14138444 4.905611\n",
            "training cost: total, AE, t, p 7.0666633 0.13208799 3.6066773 1.0834851\n",
            "person, step: 0 60 train acc task 0.85992306 train acc person 0.6866923 ,the test acc task 0.773 testing: AE, t 0.12024988 5.120483\n",
            "training cost: total, AE, t, p 6.6316586 0.11059286 3.45974 0.94181395\n",
            "person, step: 0 70 train acc task 0.8671538 train acc person 0.7466923 ,the test acc task 0.771 testing: AE, t 0.1055982 5.0888376\n",
            "training cost: total, AE, t, p 6.3245735 0.096024126 3.3912966 0.82615626\n",
            "person, step: 0 80 train acc task 0.8736154 train acc person 0.7810769 ,the test acc task 0.771 testing: AE, t 0.09548056 5.2145505\n",
            "training cost: total, AE, t, p 6.0230618 0.08601313 3.3175085 0.7047704\n"
          ]
        },
        {
          "metadata": {
            "tags": null
          },
          "name": "stderr",
          "output_type": "stream",
          "text": [
            "/usr/local/lib/python3.7/dist-packages/ipykernel_launcher.py:270: DeprecationWarning: time.clock has been deprecated in Python 3.3 and will be removed from Python 3.8: use time.perf_counter or time.process_time instead\n",
            "/usr/local/lib/python3.7/dist-packages/ipykernel_launcher.py:272: DeprecationWarning: time.clock has been deprecated in Python 3.3 and will be removed from Python 3.8: use time.perf_counter or time.process_time instead\n"
          ]
        },
        {
          "metadata": {
            "tags": null
          },
          "name": "stdout",
          "output_type": "stream",
          "text": [
            "training, testing time 414.43655 0.1663239999999746\n",
            "attention saved, person: 0\n",
            "five losses are saved at /home/xiangzhang/scratch/activity_recognition_practice/Parkinson_seizure\n",
            "(13000, 5251) (13000, 1)\n",
            "(13000, 5252)\n",
            "(13000, 5252) (1000, 5252)\n",
            "(1000, 5250)\n",
            "(1000, 2)\n",
            "(1000, 13)\n",
            "(?, 5250)\n",
            "(?, 125, 21, 4)\n",
            "(?, 62, 10, 16) (?, 31, 5, 32) (?, 15, 2, 64) (?, 7, 2, 128) (?, 1792)\n",
            "prediction_t (?, 2)\n",
            "prediction_p Tensor(\"class_p_1/Shape:0\", shape=(2,), dtype=int32)\n"
          ]
        },
        {
          "metadata": {
            "tags": null
          },
          "name": "stderr",
          "output_type": "stream",
          "text": [
            "/usr/local/lib/python3.7/dist-packages/ipykernel_launcher.py:234: DeprecationWarning: time.clock has been deprecated in Python 3.3 and will be removed from Python 3.8: use time.perf_counter or time.process_time instead\n"
          ]
        },
        {
          "metadata": {
            "tags": null
          },
          "name": "stdout",
          "output_type": "stream",
          "text": [
            "person, step: 1 10 train acc task 0.7980769 train acc person 0.34784615 ,the test acc task 0.641 testing: AE, t 0.3140841 6.2567167\n",
            "training cost: total, AE, t, p 10.165982 0.31838077 4.977564 1.9247979\n",
            "person, step: 1 20 train acc task 0.8185385 train acc person 0.46015385 ,the test acc task 0.706 testing: AE, t 0.24440593 5.5588264\n",
            "training cost: total, AE, t, p 9.140858 0.24840735 4.600902 1.5557088\n",
            "person, step: 1 30 train acc task 0.8252308 train acc person 0.5143846 ,the test acc task 0.751 testing: AE, t 0.19050874 4.865381\n",
            "training cost: total, AE, t, p 8.42539 0.19441761 4.312641 1.3764766\n",
            "person, step: 1 40 train acc task 0.8293846 train acc person 0.5697692 ,the test acc task 0.777 testing: AE, t 0.14933775 4.407987\n",
            "training cost: total, AE, t, p 7.7147155 0.15335472 4.0035586 1.1901137\n",
            "person, step: 1 50 train acc task 0.84053844 train acc person 0.6246923 ,the test acc task 0.828 testing: AE, t 0.11986645 3.8348043\n",
            "training cost: total, AE, t, p 7.2696896 0.1239812 3.8905196 1.0414956\n",
            "person, step: 1 60 train acc task 0.85138464 train acc person 0.66992307 ,the test acc task 0.837 testing: AE, t 0.099145725 3.521655\n",
            "training cost: total, AE, t, p 6.8441467 0.10353667 3.7350562 0.9264775\n",
            "person, step: 1 70 train acc task 0.863 train acc person 0.7086923 ,the test acc task 0.854 testing: AE, t 0.0848803 3.569415\n",
            "training cost: total, AE, t, p 6.230939 0.08943078 3.3651175 0.80958587\n",
            "person, step: 1 80 train acc task 0.8700769 train acc person 0.74892306 ,the test acc task 0.83 testing: AE, t 0.074915454 3.6536918\n",
            "training cost: total, AE, t, p 5.874077 0.07964108 3.1939375 0.7281461\n"
          ]
        },
        {
          "metadata": {
            "tags": null
          },
          "name": "stderr",
          "output_type": "stream",
          "text": [
            "/usr/local/lib/python3.7/dist-packages/ipykernel_launcher.py:270: DeprecationWarning: time.clock has been deprecated in Python 3.3 and will be removed from Python 3.8: use time.perf_counter or time.process_time instead\n",
            "/usr/local/lib/python3.7/dist-packages/ipykernel_launcher.py:272: DeprecationWarning: time.clock has been deprecated in Python 3.3 and will be removed from Python 3.8: use time.perf_counter or time.process_time instead\n"
          ]
        },
        {
          "metadata": {
            "tags": null
          },
          "name": "stdout",
          "output_type": "stream",
          "text": [
            "training, testing time 822.400393 0.1994720000000143\n",
            "attention saved, person: 1\n",
            "five losses are saved at /home/xiangzhang/scratch/activity_recognition_practice/Parkinson_seizure\n",
            "(13000, 5251) (13000, 1)\n",
            "(13000, 5252)\n",
            "(13000, 5252) (1000, 5252)\n",
            "(1000, 5250)\n",
            "(1000, 2)\n",
            "(1000, 13)\n",
            "(?, 5250)\n",
            "(?, 125, 21, 4)\n",
            "(?, 62, 10, 16) (?, 31, 5, 32) (?, 15, 2, 64) (?, 7, 2, 128) (?, 1792)\n",
            "prediction_t (?, 2)\n",
            "prediction_p Tensor(\"class_p_2/Shape:0\", shape=(2,), dtype=int32)\n"
          ]
        },
        {
          "metadata": {
            "tags": null
          },
          "name": "stderr",
          "output_type": "stream",
          "text": [
            "/usr/local/lib/python3.7/dist-packages/ipykernel_launcher.py:234: DeprecationWarning: time.clock has been deprecated in Python 3.3 and will be removed from Python 3.8: use time.perf_counter or time.process_time instead\n"
          ]
        },
        {
          "metadata": {
            "tags": null
          },
          "name": "stdout",
          "output_type": "stream",
          "text": [
            "person, step: 2 10 train acc task 0.7857692 train acc person 0.41115385 ,the test acc task 0.905 testing: AE, t 0.18902639 3.367643\n",
            "training cost: total, AE, t, p 9.890095 0.19142799 4.9027996 1.821513\n",
            "person, step: 2 20 train acc task 0.81107694 train acc person 0.5028462 ,the test acc task 0.963 testing: AE, t 0.14478384 2.5172877\n",
            "training cost: total, AE, t, p 8.847699 0.14739728 4.430584 1.473304\n",
            "person, step: 2 30 train acc task 0.8253846 train acc person 0.5856923 ,the test acc task 0.964 testing: AE, t 0.11303122 2.3110237\n",
            "training cost: total, AE, t, p 8.071714 0.11587277 4.113893 1.2163846\n",
            "person, step: 2 40 train acc task 0.8366154 train acc person 0.64338464 ,the test acc task 0.967 testing: AE, t 0.090734005 2.0744765\n",
            "training cost: total, AE, t, p 7.5991716 0.093778 3.9655733 1.0721779\n",
            "person, step: 2 50 train acc task 0.8481538 train acc person 0.6936154 ,the test acc task 0.973 testing: AE, t 0.07531388 1.9860013\n",
            "training cost: total, AE, t, p 7.135474 0.078472316 3.8083177 0.9255474\n",
            "person, step: 2 60 train acc task 0.85753846 train acc person 0.7333846 ,the test acc task 0.965 testing: AE, t 0.06467919 1.8980019\n",
            "training cost: total, AE, t, p 6.5186825 0.068005316 3.4476388 0.8115648\n",
            "person, step: 2 70 train acc task 0.8709231 train acc person 0.7751539 ,the test acc task 0.961 testing: AE, t 0.057309188 2.0511363\n",
            "training cost: total, AE, t, p 6.0617146 0.0607239 3.2132564 0.71418613\n",
            "person, step: 2 80 train acc task 0.87884617 train acc person 0.80446154 ,the test acc task 0.94 testing: AE, t 0.052146677 2.2955065\n",
            "training cost: total, AE, t, p 5.7300477 0.055458304 3.0916073 0.6140193\n"
          ]
        },
        {
          "metadata": {
            "tags": null
          },
          "name": "stderr",
          "output_type": "stream",
          "text": [
            "/usr/local/lib/python3.7/dist-packages/ipykernel_launcher.py:270: DeprecationWarning: time.clock has been deprecated in Python 3.3 and will be removed from Python 3.8: use time.perf_counter or time.process_time instead\n",
            "/usr/local/lib/python3.7/dist-packages/ipykernel_launcher.py:272: DeprecationWarning: time.clock has been deprecated in Python 3.3 and will be removed from Python 3.8: use time.perf_counter or time.process_time instead\n"
          ]
        },
        {
          "metadata": {
            "tags": null
          },
          "name": "stdout",
          "output_type": "stream",
          "text": [
            "training, testing time 1227.816727 0.22363300000006348\n",
            "attention saved, person: 2\n",
            "five losses are saved at /home/xiangzhang/scratch/activity_recognition_practice/Parkinson_seizure\n",
            "(13000, 5251) (13000, 1)\n",
            "(13000, 5252)\n",
            "(13000, 5252) (1000, 5252)\n",
            "(1000, 5250)\n",
            "(1000, 2)\n",
            "(1000, 13)\n",
            "(?, 5250)\n",
            "(?, 125, 21, 4)\n",
            "(?, 62, 10, 16) (?, 31, 5, 32) (?, 15, 2, 64) (?, 7, 2, 128) (?, 1792)\n",
            "prediction_t (?, 2)\n",
            "prediction_p Tensor(\"class_p_3/Shape:0\", shape=(2,), dtype=int32)\n"
          ]
        },
        {
          "metadata": {
            "tags": null
          },
          "name": "stderr",
          "output_type": "stream",
          "text": [
            "/usr/local/lib/python3.7/dist-packages/ipykernel_launcher.py:234: DeprecationWarning: time.clock has been deprecated in Python 3.3 and will be removed from Python 3.8: use time.perf_counter or time.process_time instead\n"
          ]
        },
        {
          "metadata": {
            "tags": null
          },
          "name": "stdout",
          "output_type": "stream",
          "text": [
            "person, step: 3 10 train acc task 0.80323076 train acc person 0.3996923 ,the test acc task 0.775 testing: AE, t 0.2160817 5.690754\n",
            "training cost: total, AE, t, p 9.541412 0.21682857 4.617195 1.7630395\n",
            "person, step: 3 20 train acc task 0.82246155 train acc person 0.5206923 ,the test acc task 0.76 testing: AE, t 0.1625971 5.852193\n",
            "training cost: total, AE, t, p 8.66093 0.16376261 4.3807406 1.3705108\n",
            "person, step: 3 30 train acc task 0.8346923 train acc person 0.59707695 ,the test acc task 0.762 testing: AE, t 0.1262378 5.744145\n",
            "training cost: total, AE, t, p 7.5713573 0.12781465 3.7409658 1.1398152\n",
            "person, step: 3 40 train acc task 0.84738463 train acc person 0.6550769 ,the test acc task 0.762 testing: AE, t 0.10231119 6.129486\n",
            "training cost: total, AE, t, p 7.0617895 0.10430819 3.6006138 0.9574972\n",
            "person, step: 3 50 train acc task 0.8656923 train acc person 0.69892305 ,the test acc task 0.767 testing: AE, t 0.0863916 6.041351\n",
            "training cost: total, AE, t, p 6.284946 0.08864775 3.0821323 0.8589705\n",
            "person, step: 3 60 train acc task 0.87246156 train acc person 0.73823076 ,the test acc task 0.761 testing: AE, t 0.07513535 6.3708806\n",
            "training cost: total, AE, t, p 6.0392194 0.07763839 3.1042433 0.7271991\n",
            "person, step: 3 70 train acc task 0.88315386 train acc person 0.7753846 ,the test acc task 0.769 testing: AE, t 0.06671595 6.3470087\n",
            "training cost: total, AE, t, p 5.6392083 0.06941798 2.901522 0.6466605\n",
            "person, step: 3 80 train acc task 0.8937692 train acc person 0.80853844 ,the test acc task 0.772 testing: AE, t 0.060121737 6.1361475\n",
            "training cost: total, AE, t, p 5.3092165 0.06287761 2.7594624 0.5614149\n"
          ]
        },
        {
          "metadata": {
            "tags": null
          },
          "name": "stderr",
          "output_type": "stream",
          "text": [
            "/usr/local/lib/python3.7/dist-packages/ipykernel_launcher.py:270: DeprecationWarning: time.clock has been deprecated in Python 3.3 and will be removed from Python 3.8: use time.perf_counter or time.process_time instead\n",
            "/usr/local/lib/python3.7/dist-packages/ipykernel_launcher.py:272: DeprecationWarning: time.clock has been deprecated in Python 3.3 and will be removed from Python 3.8: use time.perf_counter or time.process_time instead\n"
          ]
        },
        {
          "metadata": {
            "tags": null
          },
          "name": "stdout",
          "output_type": "stream",
          "text": [
            "training, testing time 1633.941156 0.27655000000004293\n",
            "attention saved, person: 3\n",
            "five losses are saved at /home/xiangzhang/scratch/activity_recognition_practice/Parkinson_seizure\n",
            "(13000, 5251) (13000, 1)\n",
            "(13000, 5252)\n",
            "(13000, 5252) (1000, 5252)\n",
            "(1000, 5250)\n",
            "(1000, 2)\n",
            "(1000, 13)\n",
            "(?, 5250)\n",
            "(?, 125, 21, 4)\n",
            "(?, 62, 10, 16) (?, 31, 5, 32) (?, 15, 2, 64) (?, 7, 2, 128) (?, 1792)\n",
            "prediction_t (?, 2)\n",
            "prediction_p Tensor(\"class_p_4/Shape:0\", shape=(2,), dtype=int32)\n"
          ]
        },
        {
          "metadata": {
            "tags": null
          },
          "name": "stderr",
          "output_type": "stream",
          "text": [
            "/usr/local/lib/python3.7/dist-packages/ipykernel_launcher.py:234: DeprecationWarning: time.clock has been deprecated in Python 3.3 and will be removed from Python 3.8: use time.perf_counter or time.process_time instead\n"
          ]
        },
        {
          "metadata": {
            "tags": null
          },
          "name": "stdout",
          "output_type": "stream",
          "text": [
            "person, step: 4 10 train acc task 0.7905385 train acc person 0.35753846 ,the test acc task 0.861 testing: AE, t 0.210389 4.556436\n",
            "training cost: total, AE, t, p 9.793467 0.20639153 4.7252955 1.9027945\n",
            "person, step: 4 20 train acc task 0.81684613 train acc person 0.47884616 ,the test acc task 0.815 testing: AE, t 0.15513545 4.6267233\n",
            "training cost: total, AE, t, p 8.64812 0.15084738 4.181258 1.5463294\n",
            "person, step: 4 30 train acc task 0.82715386 train acc person 0.5490769 ,the test acc task 0.817 testing: AE, t 0.12375942 4.734598\n",
            "training cost: total, AE, t, p 7.9525023 0.11937324 3.9295146 1.3154321\n",
            "person, step: 4 40 train acc task 0.8366154 train acc person 0.63053846 ,the test acc task 0.779 testing: AE, t 0.10606229 5.1863728\n",
            "training cost: total, AE, t, p 7.4477434 0.101426244 3.7731662 1.1493919\n",
            "person, step: 4 50 train acc task 0.8482308 train acc person 0.693 ,the test acc task 0.759 testing: AE, t 0.09460081 5.7237763\n",
            "training cost: total, AE, t, p 6.863679 0.089964226 3.531078 0.9627277\n",
            "person, step: 4 60 train acc task 0.85753846 train acc person 0.73276925 ,the test acc task 0.698 testing: AE, t 0.086704716 6.183525\n",
            "training cost: total, AE, t, p 6.5152497 0.081983104 3.453219 0.82709265\n",
            "person, step: 4 70 train acc task 0.8716154 train acc person 0.76576924 ,the test acc task 0.689 testing: AE, t 0.08037399 6.2501664\n",
            "training cost: total, AE, t, p 6.026983 0.07578671 3.170741 0.7396657\n",
            "person, step: 4 80 train acc task 0.877 train acc person 0.7890769 ,the test acc task 0.719 testing: AE, t 0.075051494 6.0453615\n",
            "training cost: total, AE, t, p 5.7636514 0.07075934 3.0749547 0.67614335\n"
          ]
        },
        {
          "metadata": {
            "tags": null
          },
          "name": "stderr",
          "output_type": "stream",
          "text": [
            "/usr/local/lib/python3.7/dist-packages/ipykernel_launcher.py:270: DeprecationWarning: time.clock has been deprecated in Python 3.3 and will be removed from Python 3.8: use time.perf_counter or time.process_time instead\n",
            "/usr/local/lib/python3.7/dist-packages/ipykernel_launcher.py:272: DeprecationWarning: time.clock has been deprecated in Python 3.3 and will be removed from Python 3.8: use time.perf_counter or time.process_time instead\n"
          ]
        },
        {
          "metadata": {
            "tags": null
          },
          "name": "stdout",
          "output_type": "stream",
          "text": [
            "training, testing time 2048.778608 0.3327110000000175\n",
            "attention saved, person: 4\n",
            "five losses are saved at /home/xiangzhang/scratch/activity_recognition_practice/Parkinson_seizure\n",
            "(13000, 5251) (13000, 1)\n",
            "(13000, 5252)\n",
            "(13000, 5252) (1000, 5252)\n",
            "(1000, 5250)\n",
            "(1000, 2)\n",
            "(1000, 13)\n",
            "(?, 5250)\n",
            "(?, 125, 21, 4)\n",
            "(?, 62, 10, 16) (?, 31, 5, 32) (?, 15, 2, 64) (?, 7, 2, 128) (?, 1792)\n",
            "prediction_t (?, 2)\n",
            "prediction_p Tensor(\"class_p_5/Shape:0\", shape=(2,), dtype=int32)\n"
          ]
        },
        {
          "metadata": {
            "tags": null
          },
          "name": "stderr",
          "output_type": "stream",
          "text": [
            "/usr/local/lib/python3.7/dist-packages/ipykernel_launcher.py:234: DeprecationWarning: time.clock has been deprecated in Python 3.3 and will be removed from Python 3.8: use time.perf_counter or time.process_time instead\n"
          ]
        },
        {
          "metadata": {
            "tags": null
          },
          "name": "stdout",
          "output_type": "stream",
          "text": [
            "person, step: 5 10 train acc task 0.77407694 train acc person 0.35823077 ,the test acc task 0.616 testing: AE, t 0.13047501 6.9299355\n",
            "training cost: total, AE, t, p 9.724302 0.13425572 4.7299294 1.8911774\n",
            "person, step: 5 20 train acc task 0.82223076 train acc person 0.44784614 ,the test acc task 0.674 testing: AE, t 0.099790886 6.624446\n",
            "training cost: total, AE, t, p 8.810334 0.103757955 4.3407636 1.5957177\n",
            "person, step: 5 30 train acc task 0.83976924 train acc person 0.5137692 ,the test acc task 0.693 testing: AE, t 0.08161226 6.33455\n",
            "training cost: total, AE, t, p 7.9850416 0.08563287 3.94227 1.381671\n",
            "person, step: 5 40 train acc task 0.85446155 train acc person 0.5827692 ,the test acc task 0.697 testing: AE, t 0.07000978 6.3444166\n",
            "training cost: total, AE, t, p 7.217769 0.07424111 3.514682 1.2307422\n",
            "person, step: 5 50 train acc task 0.86923075 train acc person 0.63746154 ,the test acc task 0.715 testing: AE, t 0.0619842 6.155951\n",
            "training cost: total, AE, t, p 6.7028837 0.06625568 3.3223536 1.0753967\n",
            "person, step: 5 60 train acc task 0.87746155 train acc person 0.68507695 ,the test acc task 0.697 testing: AE, t 0.056198448 6.432197\n",
            "training cost: total, AE, t, p 6.1834593 0.060549594 3.1024308 0.92327917\n",
            "person, step: 5 70 train acc task 0.89046156 train acc person 0.7264615 ,the test acc task 0.698 testing: AE, t 0.051824793 6.8126965\n",
            "training cost: total, AE, t, p 5.7556443 0.05622609 2.89346 0.8331928\n",
            "person, step: 5 80 train acc task 0.8984615 train acc person 0.7566154 ,the test acc task 0.707 testing: AE, t 0.04840374 6.3673854\n",
            "training cost: total, AE, t, p 5.368958 0.052786544 2.6957438 0.7561486\n"
          ]
        },
        {
          "metadata": {
            "tags": null
          },
          "name": "stderr",
          "output_type": "stream",
          "text": [
            "/usr/local/lib/python3.7/dist-packages/ipykernel_launcher.py:270: DeprecationWarning: time.clock has been deprecated in Python 3.3 and will be removed from Python 3.8: use time.perf_counter or time.process_time instead\n",
            "/usr/local/lib/python3.7/dist-packages/ipykernel_launcher.py:272: DeprecationWarning: time.clock has been deprecated in Python 3.3 and will be removed from Python 3.8: use time.perf_counter or time.process_time instead\n"
          ]
        },
        {
          "metadata": {
            "tags": null
          },
          "name": "stdout",
          "output_type": "stream",
          "text": [
            "training, testing time 2462.947659 0.332100999999966\n",
            "attention saved, person: 5\n",
            "five losses are saved at /home/xiangzhang/scratch/activity_recognition_practice/Parkinson_seizure\n",
            "(13000, 5251) (13000, 1)\n",
            "(13000, 5252)\n",
            "(13000, 5252) (1000, 5252)\n",
            "(1000, 5250)\n",
            "(1000, 2)\n",
            "(1000, 13)\n",
            "(?, 5250)\n",
            "(?, 125, 21, 4)\n",
            "(?, 62, 10, 16) (?, 31, 5, 32) (?, 15, 2, 64) (?, 7, 2, 128) (?, 1792)\n",
            "prediction_t (?, 2)\n",
            "prediction_p Tensor(\"class_p_6/Shape:0\", shape=(2,), dtype=int32)\n"
          ]
        },
        {
          "metadata": {
            "tags": null
          },
          "name": "stderr",
          "output_type": "stream",
          "text": [
            "/usr/local/lib/python3.7/dist-packages/ipykernel_launcher.py:234: DeprecationWarning: time.clock has been deprecated in Python 3.3 and will be removed from Python 3.8: use time.perf_counter or time.process_time instead\n"
          ]
        },
        {
          "metadata": {
            "tags": null
          },
          "name": "stdout",
          "output_type": "stream",
          "text": [
            "person, step: 6 10 train acc task 0.78284615 train acc person 0.39146155 ,the test acc task 0.89 testing: AE, t 0.24850857 4.023277\n",
            "training cost: total, AE, t, p 10.152758 0.24830864 5.125048 1.8249067\n",
            "person, step: 6 20 train acc task 0.82146156 train acc person 0.4846154 ,the test acc task 0.888 testing: AE, t 0.18914044 3.4599054\n",
            "training cost: total, AE, t, p 8.6505995 0.19014524 4.2058954 1.5022104\n",
            "person, step: 6 30 train acc task 0.8408462 train acc person 0.5496154 ,the test acc task 0.857 testing: AE, t 0.15048131 3.6656091\n",
            "training cost: total, AE, t, p 7.976622 0.15243225 3.9387224 1.3211105\n",
            "person, step: 6 40 train acc task 0.857 train acc person 0.5976923 ,the test acc task 0.83 testing: AE, t 0.1250001 4.0919075\n",
            "training cost: total, AE, t, p 7.3002777 0.12769121 3.6160448 1.1627994\n",
            "person, step: 6 50 train acc task 0.8690769 train acc person 0.64 ,the test acc task 0.79 testing: AE, t 0.10791315 4.5884457\n",
            "training cost: total, AE, t, p 6.609566 0.11101061 3.2152047 1.0418936\n",
            "person, step: 6 60 train acc task 0.878 train acc person 0.6814615 ,the test acc task 0.767 testing: AE, t 0.09607814 5.154822\n",
            "training cost: total, AE, t, p 6.3427935 0.099515855 3.189143 0.94866884\n",
            "person, step: 6 70 train acc task 0.8893846 train acc person 0.72853845 ,the test acc task 0.76 testing: AE, t 0.087674245 5.77588\n",
            "training cost: total, AE, t, p 5.714306 0.091263816 2.782707 0.8539452\n",
            "person, step: 6 80 train acc task 0.8953846 train acc person 0.76453847 ,the test acc task 0.75 testing: AE, t 0.08139662 5.8575244\n",
            "training cost: total, AE, t, p 5.492199 0.08521308 2.7801313 0.744334\n"
          ]
        },
        {
          "metadata": {
            "tags": null
          },
          "name": "stderr",
          "output_type": "stream",
          "text": [
            "/usr/local/lib/python3.7/dist-packages/ipykernel_launcher.py:270: DeprecationWarning: time.clock has been deprecated in Python 3.3 and will be removed from Python 3.8: use time.perf_counter or time.process_time instead\n",
            "/usr/local/lib/python3.7/dist-packages/ipykernel_launcher.py:272: DeprecationWarning: time.clock has been deprecated in Python 3.3 and will be removed from Python 3.8: use time.perf_counter or time.process_time instead\n"
          ]
        },
        {
          "metadata": {
            "tags": null
          },
          "name": "stdout",
          "output_type": "stream",
          "text": [
            "training, testing time 2881.323721 0.4183259999999791\n",
            "attention saved, person: 6\n",
            "five losses are saved at /home/xiangzhang/scratch/activity_recognition_practice/Parkinson_seizure\n",
            "(13000, 5251) (13000, 1)\n",
            "(13000, 5252)\n",
            "(13000, 5252) (1000, 5252)\n",
            "(1000, 5250)\n",
            "(1000, 2)\n",
            "(1000, 13)\n",
            "(?, 5250)\n",
            "(?, 125, 21, 4)\n",
            "(?, 62, 10, 16) (?, 31, 5, 32) (?, 15, 2, 64) (?, 7, 2, 128) (?, 1792)\n",
            "prediction_t (?, 2)\n",
            "prediction_p Tensor(\"class_p_7/Shape:0\", shape=(2,), dtype=int32)\n"
          ]
        },
        {
          "metadata": {
            "tags": null
          },
          "name": "stderr",
          "output_type": "stream",
          "text": [
            "/usr/local/lib/python3.7/dist-packages/ipykernel_launcher.py:234: DeprecationWarning: time.clock has been deprecated in Python 3.3 and will be removed from Python 3.8: use time.perf_counter or time.process_time instead\n"
          ]
        },
        {
          "metadata": {
            "tags": null
          },
          "name": "stdout",
          "output_type": "stream",
          "text": [
            "person, step: 7 10 train acc task 0.79307693 train acc person 0.25976923 ,the test acc task 0.881 testing: AE, t 0.70381135 3.7606356\n",
            "training cost: total, AE, t, p 10.970298 0.67965776 5.197278 2.1143267\n",
            "person, step: 7 20 train acc task 0.81323075 train acc person 0.38253847 ,the test acc task 0.883 testing: AE, t 0.53533185 3.6121078\n",
            "training cost: total, AE, t, p 9.75979 0.5167653 4.6781034 1.7710266\n",
            "person, step: 7 30 train acc task 0.8261539 train acc person 0.45084617 ,the test acc task 0.856 testing: AE, t 0.40273938 3.6642096\n",
            "training cost: total, AE, t, p 8.769802 0.38834476 4.2653246 1.4988685\n",
            "person, step: 7 40 train acc task 0.83976924 train acc person 0.5170769 ,the test acc task 0.846 testing: AE, t 0.30105862 3.8488028\n",
            "training cost: total, AE, t, p 8.014941 0.29003757 3.9686978 1.3018136\n",
            "person, step: 7 50 train acc task 0.85376924 train acc person 0.55746156 ,the test acc task 0.804 testing: AE, t 0.22622257 4.1306787\n",
            "training cost: total, AE, t, p 7.4218454 0.21769196 3.7302864 1.1650858\n",
            "person, step: 7 60 train acc task 0.8645385 train acc person 0.60784614 ,the test acc task 0.814 testing: AE, t 0.17354186 4.3239803\n",
            "training cost: total, AE, t, p 6.8291373 0.16697167 3.4424162 1.0373392\n",
            "person, step: 7 70 train acc task 0.8713077 train acc person 0.64484614 ,the test acc task 0.826 testing: AE, t 0.13820513 4.160569\n",
            "training cost: total, AE, t, p 6.5621753 0.13301389 3.3932261 0.9663971\n",
            "person, step: 7 80 train acc task 0.87630767 train acc person 0.6789231 ,the test acc task 0.834 testing: AE, t 0.11577541 4.2909765\n",
            "training cost: total, AE, t, p 5.979975 0.1115828 3.0438912 0.85588664\n"
          ]
        },
        {
          "metadata": {
            "tags": null
          },
          "name": "stderr",
          "output_type": "stream",
          "text": [
            "/usr/local/lib/python3.7/dist-packages/ipykernel_launcher.py:270: DeprecationWarning: time.clock has been deprecated in Python 3.3 and will be removed from Python 3.8: use time.perf_counter or time.process_time instead\n",
            "/usr/local/lib/python3.7/dist-packages/ipykernel_launcher.py:272: DeprecationWarning: time.clock has been deprecated in Python 3.3 and will be removed from Python 3.8: use time.perf_counter or time.process_time instead\n"
          ]
        },
        {
          "metadata": {
            "tags": null
          },
          "name": "stdout",
          "output_type": "stream",
          "text": [
            "training, testing time 3302.871975 0.45221799999990253\n",
            "attention saved, person: 7\n",
            "five losses are saved at /home/xiangzhang/scratch/activity_recognition_practice/Parkinson_seizure\n",
            "(13000, 5251) (13000, 1)\n",
            "(13000, 5252)\n",
            "(13000, 5252) (1000, 5252)\n",
            "(1000, 5250)\n",
            "(1000, 2)\n",
            "(1000, 13)\n",
            "(?, 5250)\n",
            "(?, 125, 21, 4)\n",
            "(?, 62, 10, 16) (?, 31, 5, 32) (?, 15, 2, 64) (?, 7, 2, 128) (?, 1792)\n",
            "prediction_t (?, 2)\n",
            "prediction_p Tensor(\"class_p_8/Shape:0\", shape=(2,), dtype=int32)\n"
          ]
        },
        {
          "metadata": {
            "tags": null
          },
          "name": "stderr",
          "output_type": "stream",
          "text": [
            "/usr/local/lib/python3.7/dist-packages/ipykernel_launcher.py:234: DeprecationWarning: time.clock has been deprecated in Python 3.3 and will be removed from Python 3.8: use time.perf_counter or time.process_time instead\n"
          ]
        },
        {
          "metadata": {
            "tags": null
          },
          "name": "stdout",
          "output_type": "stream",
          "text": [
            "person, step: 8 10 train acc task 0.79707694 train acc person 0.33223078 ,the test acc task 0.57 testing: AE, t 0.21559547 6.707273\n",
            "training cost: total, AE, t, p 9.908513 0.21979408 4.7220964 1.9700593\n",
            "person, step: 8 20 train acc task 0.81246156 train acc person 0.4463077 ,the test acc task 0.548 testing: AE, t 0.1586177 7.447531\n",
            "training cost: total, AE, t, p 9.044934 0.16035062 4.439302 1.6212839\n",
            "person, step: 8 30 train acc task 0.8203077 train acc person 0.52784616 ,the test acc task 0.555 testing: AE, t 0.124464996 7.2520037\n",
            "training cost: total, AE, t, p 8.309623 0.122873306 4.1510577 1.3819071\n",
            "person, step: 8 40 train acc task 0.82907695 train acc person 0.6016923 ,the test acc task 0.543 testing: AE, t 0.10482431 7.2084756\n",
            "training cost: total, AE, t, p 7.7105017 0.099767335 3.9372277 1.1804844\n",
            "person, step: 8 50 train acc task 0.839 train acc person 0.65815383 ,the test acc task 0.528 testing: AE, t 0.09369791 7.514077\n",
            "training cost: total, AE, t, p 7.0518465 0.0856985 3.5773773 1.0443412\n",
            "person, step: 8 60 train acc task 0.8503846 train acc person 0.70623076 ,the test acc task 0.564 testing: AE, t 0.08690435 8.099738\n",
            "training cost: total, AE, t, p 6.7833877 0.07647007 3.5792513 0.91647774\n",
            "person, step: 8 70 train acc task 0.86323076 train acc person 0.7604615 ,the test acc task 0.505 testing: AE, t 0.082347974 8.870339\n",
            "training cost: total, AE, t, p 6.4018383 0.07015165 3.4400818 0.7981108\n",
            "person, step: 8 80 train acc task 0.8728461 train acc person 0.79253846 ,the test acc task 0.521 testing: AE, t 0.07870509 9.252629\n",
            "training cost: total, AE, t, p 5.876879 0.065102816 3.118997 0.7042192\n"
          ]
        },
        {
          "metadata": {
            "tags": null
          },
          "name": "stderr",
          "output_type": "stream",
          "text": [
            "/usr/local/lib/python3.7/dist-packages/ipykernel_launcher.py:270: DeprecationWarning: time.clock has been deprecated in Python 3.3 and will be removed from Python 3.8: use time.perf_counter or time.process_time instead\n",
            "/usr/local/lib/python3.7/dist-packages/ipykernel_launcher.py:272: DeprecationWarning: time.clock has been deprecated in Python 3.3 and will be removed from Python 3.8: use time.perf_counter or time.process_time instead\n"
          ]
        },
        {
          "metadata": {
            "tags": null
          },
          "name": "stdout",
          "output_type": "stream",
          "text": [
            "training, testing time 3725.992139 0.5103199999998651\n",
            "attention saved, person: 8\n",
            "five losses are saved at /home/xiangzhang/scratch/activity_recognition_practice/Parkinson_seizure\n",
            "(13000, 5251) (13000, 1)\n",
            "(13000, 5252)\n",
            "(13000, 5252) (1000, 5252)\n",
            "(1000, 5250)\n",
            "(1000, 2)\n",
            "(1000, 13)\n",
            "(?, 5250)\n",
            "(?, 125, 21, 4)\n",
            "(?, 62, 10, 16) (?, 31, 5, 32) (?, 15, 2, 64) (?, 7, 2, 128) (?, 1792)\n",
            "prediction_t (?, 2)\n",
            "prediction_p Tensor(\"class_p_9/Shape:0\", shape=(2,), dtype=int32)\n"
          ]
        },
        {
          "metadata": {
            "tags": null
          },
          "name": "stderr",
          "output_type": "stream",
          "text": [
            "/usr/local/lib/python3.7/dist-packages/ipykernel_launcher.py:234: DeprecationWarning: time.clock has been deprecated in Python 3.3 and will be removed from Python 3.8: use time.perf_counter or time.process_time instead\n"
          ]
        },
        {
          "metadata": {
            "tags": null
          },
          "name": "stdout",
          "output_type": "stream",
          "text": [
            "person, step: 9 10 train acc task 0.8071538 train acc person 0.37684616 ,the test acc task 0.604 testing: AE, t 0.36262417 7.1917257\n",
            "training cost: total, AE, t, p 10.271935 0.36319527 4.995427 1.9337242\n",
            "person, step: 9 20 train acc task 0.8426923 train acc person 0.5004615 ,the test acc task 0.605 testing: AE, t 0.27893272 7.406352\n",
            "training cost: total, AE, t, p 8.833855 0.2796464 4.234719 1.5265971\n",
            "person, step: 9 30 train acc task 0.85184616 train acc person 0.57292306 ,the test acc task 0.624 testing: AE, t 0.21706253 7.654295\n",
            "training cost: total, AE, t, p 8.185475 0.21820186 4.0867167 1.2705569\n",
            "person, step: 9 40 train acc task 0.8622308 train acc person 0.62315387 ,the test acc task 0.602 testing: AE, t 0.17012842 7.8479075\n",
            "training cost: total, AE, t, p 7.490331 0.17176457 3.7494617 1.1283351\n",
            "person, step: 9 50 train acc task 0.87115383 train acc person 0.6641539 ,the test acc task 0.61 testing: AE, t 0.13463356 7.4484067\n",
            "training cost: total, AE, t, p 6.7909813 0.13689055 3.3856406 0.97737026\n",
            "person, step: 9 60 train acc task 0.88576925 train acc person 0.7037692 ,the test acc task 0.614 testing: AE, t 0.108161345 7.942355\n",
            "training cost: total, AE, t, p 6.436348 0.11093533 3.2825377 0.8823129\n",
            "person, step: 9 70 train acc task 0.89153844 train acc person 0.73653847 ,the test acc task 0.62 testing: AE, t 0.08893801 8.046232\n",
            "training cost: total, AE, t, p 5.8968673 0.092123 2.9635668 0.79654753\n",
            "person, step: 9 80 train acc task 0.8973077 train acc person 0.7636923 ,the test acc task 0.616 testing: AE, t 0.07523616 8.109962\n",
            "training cost: total, AE, t, p 5.658485 0.07878274 2.9124184 0.72502357\n"
          ]
        },
        {
          "metadata": {
            "tags": null
          },
          "name": "stderr",
          "output_type": "stream",
          "text": [
            "/usr/local/lib/python3.7/dist-packages/ipykernel_launcher.py:270: DeprecationWarning: time.clock has been deprecated in Python 3.3 and will be removed from Python 3.8: use time.perf_counter or time.process_time instead\n",
            "/usr/local/lib/python3.7/dist-packages/ipykernel_launcher.py:272: DeprecationWarning: time.clock has been deprecated in Python 3.3 and will be removed from Python 3.8: use time.perf_counter or time.process_time instead\n"
          ]
        },
        {
          "metadata": {
            "tags": null
          },
          "name": "stdout",
          "output_type": "stream",
          "text": [
            "training, testing time 4154.476967 0.5527480000000651\n",
            "attention saved, person: 9\n",
            "five losses are saved at /home/xiangzhang/scratch/activity_recognition_practice/Parkinson_seizure\n",
            "(13000, 5251) (13000, 1)\n",
            "(13000, 5252)\n",
            "(13000, 5252) (1000, 5252)\n",
            "(1000, 5250)\n",
            "(1000, 2)\n",
            "(1000, 13)\n",
            "(?, 5250)\n",
            "(?, 125, 21, 4)\n",
            "(?, 62, 10, 16) (?, 31, 5, 32) (?, 15, 2, 64) (?, 7, 2, 128) (?, 1792)\n",
            "prediction_t (?, 2)\n",
            "prediction_p Tensor(\"class_p_10/Shape:0\", shape=(2,), dtype=int32)\n"
          ]
        },
        {
          "metadata": {
            "tags": null
          },
          "name": "stderr",
          "output_type": "stream",
          "text": [
            "/usr/local/lib/python3.7/dist-packages/ipykernel_launcher.py:234: DeprecationWarning: time.clock has been deprecated in Python 3.3 and will be removed from Python 3.8: use time.perf_counter or time.process_time instead\n"
          ]
        },
        {
          "metadata": {
            "tags": null
          },
          "name": "stdout",
          "output_type": "stream",
          "text": [
            "person, step: 10 10 train acc task 0.78753847 train acc person 0.44738463 ,the test acc task 0.934 testing: AE, t 0.33193886 2.7352676\n",
            "training cost: total, AE, t, p 10.013249 0.32611093 5.0709014 1.6294949\n",
            "person, step: 10 20 train acc task 0.8163846 train acc person 0.5356154 ,the test acc task 0.943 testing: AE, t 0.2687816 2.494868\n",
            "training cost: total, AE, t, p 9.010592 0.26231727 4.6392107 1.2989485\n",
            "person, step: 10 30 train acc task 0.8299231 train acc person 0.6122308 ,the test acc task 0.949 testing: AE, t 0.2227809 2.3066666\n",
            "training cost: total, AE, t, p 8.3704605 0.21609071 4.411444 1.1064053\n",
            "person, step: 10 40 train acc task 0.8439231 train acc person 0.67607695 ,the test acc task 0.934 testing: AE, t 0.1880229 2.3330677\n",
            "training cost: total, AE, t, p 7.538995 0.18121676 3.9487872 0.9324045\n",
            "person, step: 10 50 train acc task 0.864 train acc person 0.7274615 ,the test acc task 0.924 testing: AE, t 0.1605633 2.5071301\n",
            "training cost: total, AE, t, p 6.997655 0.15385324 3.6965194 0.81441396\n",
            "person, step: 10 60 train acc task 0.8726923 train acc person 0.7732308 ,the test acc task 0.918 testing: AE, t 0.1383793 2.8275778\n",
            "training cost: total, AE, t, p 6.4015574 0.13174632 3.346245 0.7180009\n",
            "person, step: 10 70 train acc task 0.8783077 train acc person 0.8045385 ,the test acc task 0.902 testing: AE, t 0.120294735 3.1438982\n",
            "training cost: total, AE, t, p 5.987959 0.11383963 3.1394286 0.6420721\n",
            "person, step: 10 80 train acc task 0.88823074 train acc person 0.835 ,the test acc task 0.896 testing: AE, t 0.10518015 3.1114297\n",
            "training cost: total, AE, t, p 5.5991898 0.098940276 2.9581237 0.54571503\n"
          ]
        },
        {
          "metadata": {
            "tags": null
          },
          "name": "stderr",
          "output_type": "stream",
          "text": [
            "/usr/local/lib/python3.7/dist-packages/ipykernel_launcher.py:270: DeprecationWarning: time.clock has been deprecated in Python 3.3 and will be removed from Python 3.8: use time.perf_counter or time.process_time instead\n",
            "/usr/local/lib/python3.7/dist-packages/ipykernel_launcher.py:272: DeprecationWarning: time.clock has been deprecated in Python 3.3 and will be removed from Python 3.8: use time.perf_counter or time.process_time instead\n"
          ]
        },
        {
          "metadata": {
            "tags": null
          },
          "name": "stdout",
          "output_type": "stream",
          "text": [
            "training, testing time 4584.251121 0.5761240000001635\n",
            "attention saved, person: 10\n",
            "five losses are saved at /home/xiangzhang/scratch/activity_recognition_practice/Parkinson_seizure\n",
            "(13000, 5251) (13000, 1)\n",
            "(13000, 5252)\n",
            "(13000, 5252) (1000, 5252)\n",
            "(1000, 5250)\n",
            "(1000, 2)\n",
            "(1000, 13)\n",
            "(?, 5250)\n",
            "(?, 125, 21, 4)\n",
            "(?, 62, 10, 16) (?, 31, 5, 32) (?, 15, 2, 64) (?, 7, 2, 128) (?, 1792)\n",
            "prediction_t (?, 2)\n",
            "prediction_p Tensor(\"class_p_11/Shape:0\", shape=(2,), dtype=int32)\n"
          ]
        },
        {
          "metadata": {
            "tags": null
          },
          "name": "stderr",
          "output_type": "stream",
          "text": [
            "/usr/local/lib/python3.7/dist-packages/ipykernel_launcher.py:234: DeprecationWarning: time.clock has been deprecated in Python 3.3 and will be removed from Python 3.8: use time.perf_counter or time.process_time instead\n"
          ]
        },
        {
          "metadata": {
            "tags": null
          },
          "name": "stdout",
          "output_type": "stream",
          "text": [
            "person, step: 11 10 train acc task 0.81076926 train acc person 0.36569232 ,the test acc task 0.577 testing: AE, t 0.46082842 7.9821844\n",
            "training cost: total, AE, t, p 9.719127 0.4612192 4.320716 1.9476964\n",
            "person, step: 11 20 train acc task 0.83415383 train acc person 0.46323076 ,the test acc task 0.583 testing: AE, t 0.34833148 8.367934\n",
            "training cost: total, AE, t, p 8.647422 0.3481367 3.892043 1.5941659\n",
            "person, step: 11 30 train acc task 0.8408462 train acc person 0.5232308 ,the test acc task 0.576 testing: AE, t 0.262939 8.458148\n",
            "training cost: total, AE, t, p 7.9928284 0.262617 3.712926 1.3760378\n",
            "person, step: 11 40 train acc task 0.85053843 train acc person 0.60053843 ,the test acc task 0.567 testing: AE, t 0.20059001 8.788736\n",
            "training cost: total, AE, t, p 7.4016757 0.20054165 3.5471675 1.1711212\n",
            "person, step: 11 50 train acc task 0.8622308 train acc person 0.6563077 ,the test acc task 0.57 testing: AE, t 0.15650682 8.844715\n",
            "training cost: total, AE, t, p 6.777072 0.15685749 3.282738 0.9976241\n",
            "person, step: 11 60 train acc task 0.8759231 train acc person 0.6894615 ,the test acc task 0.556 testing: AE, t 0.12628847 9.434857\n",
            "training cost: total, AE, t, p 6.142216 0.1272434 2.909852 0.8920745\n",
            "person, step: 11 70 train acc task 0.8836923 train acc person 0.72761536 ,the test acc task 0.567 testing: AE, t 0.10587887 9.286754\n",
            "training cost: total, AE, t, p 5.9415584 0.10738151 2.9383636 0.79151046\n",
            "person, step: 11 80 train acc task 0.89146155 train acc person 0.7590769 ,the test acc task 0.576 testing: AE, t 0.09175709 9.294196\n",
            "training cost: total, AE, t, p 5.4882865 0.09374737 2.697594 0.6902892\n"
          ]
        },
        {
          "metadata": {
            "tags": null
          },
          "name": "stderr",
          "output_type": "stream",
          "text": [
            "/usr/local/lib/python3.7/dist-packages/ipykernel_launcher.py:270: DeprecationWarning: time.clock has been deprecated in Python 3.3 and will be removed from Python 3.8: use time.perf_counter or time.process_time instead\n",
            "/usr/local/lib/python3.7/dist-packages/ipykernel_launcher.py:272: DeprecationWarning: time.clock has been deprecated in Python 3.3 and will be removed from Python 3.8: use time.perf_counter or time.process_time instead\n"
          ]
        },
        {
          "metadata": {
            "tags": null
          },
          "name": "stdout",
          "output_type": "stream",
          "text": [
            "training, testing time 5019.660791 0.6337399999993067\n",
            "attention saved, person: 11\n",
            "five losses are saved at /home/xiangzhang/scratch/activity_recognition_practice/Parkinson_seizure\n",
            "(13000, 5251) (13000, 1)\n",
            "(13000, 5252)\n",
            "(13000, 5252) (1000, 5252)\n",
            "(1000, 5250)\n",
            "(1000, 2)\n",
            "(1000, 13)\n",
            "(?, 5250)\n",
            "(?, 125, 21, 4)\n",
            "(?, 62, 10, 16) (?, 31, 5, 32) (?, 15, 2, 64) (?, 7, 2, 128) (?, 1792)\n",
            "prediction_t (?, 2)\n",
            "prediction_p Tensor(\"class_p_12/Shape:0\", shape=(2,), dtype=int32)\n"
          ]
        },
        {
          "metadata": {
            "tags": null
          },
          "name": "stderr",
          "output_type": "stream",
          "text": [
            "/usr/local/lib/python3.7/dist-packages/ipykernel_launcher.py:234: DeprecationWarning: time.clock has been deprecated in Python 3.3 and will be removed from Python 3.8: use time.perf_counter or time.process_time instead\n"
          ]
        },
        {
          "metadata": {
            "tags": null
          },
          "name": "stdout",
          "output_type": "stream",
          "text": [
            "person, step: 12 10 train acc task 0.8159231 train acc person 0.412 ,the test acc task 0.756 testing: AE, t 0.24107729 5.5876904\n",
            "training cost: total, AE, t, p 9.479825 0.24359052 4.5421457 1.7144836\n",
            "person, step: 12 20 train acc task 0.8359231 train acc person 0.49207693 ,the test acc task 0.738 testing: AE, t 0.17943487 6.2938404\n",
            "training cost: total, AE, t, p 8.505009 0.18085992 4.1352687 1.3886837\n",
            "person, step: 12 30 train acc task 0.8424615 train acc person 0.5529231 ,the test acc task 0.718 testing: AE, t 0.13906327 6.4483237\n",
            "training cost: total, AE, t, p 7.720896 0.13991107 3.7357209 1.2181449\n",
            "person, step: 12 40 train acc task 0.8539231 train acc person 0.59976923 ,the test acc task 0.71 testing: AE, t 0.11390413 6.277588\n",
            "training cost: total, AE, t, p 7.0967875 0.11463144 3.4430754 1.0718677\n",
            "person, step: 12 50 train acc task 0.8631539 train acc person 0.652 ,the test acc task 0.721 testing: AE, t 0.09817042 6.404712\n",
            "training cost: total, AE, t, p 6.6813097 0.09897001 3.2868469 0.97263527\n",
            "person, step: 12 60 train acc task 0.8733077 train acc person 0.701 ,the test acc task 0.722 testing: AE, t 0.08731964 6.2428026\n",
            "training cost: total, AE, t, p 6.269674 0.088302486 3.1333616 0.85290116\n",
            "person, step: 12 70 train acc task 0.87938464 train acc person 0.73969233 ,the test acc task 0.727 testing: AE, t 0.07891303 6.2496233\n",
            "training cost: total, AE, t, p 5.9448786 0.07995982 3.0232332 0.7589055\n",
            "person, step: 12 80 train acc task 0.8861538 train acc person 0.78053844 ,the test acc task 0.718 testing: AE, t 0.07179879 6.4407043\n",
            "training cost: total, AE, t, p 5.653821 0.07308523 2.9218912 0.6738102\n"
          ]
        },
        {
          "metadata": {
            "tags": null
          },
          "name": "stderr",
          "output_type": "stream",
          "text": [
            "/usr/local/lib/python3.7/dist-packages/ipykernel_launcher.py:270: DeprecationWarning: time.clock has been deprecated in Python 3.3 and will be removed from Python 3.8: use time.perf_counter or time.process_time instead\n",
            "/usr/local/lib/python3.7/dist-packages/ipykernel_launcher.py:272: DeprecationWarning: time.clock has been deprecated in Python 3.3 and will be removed from Python 3.8: use time.perf_counter or time.process_time instead\n"
          ]
        },
        {
          "metadata": {
            "tags": null
          },
          "name": "stdout",
          "output_type": "stream",
          "text": [
            "training, testing time 5455.477272 0.6725299999998242\n",
            "attention saved, person: 12\n",
            "five losses are saved at /home/xiangzhang/scratch/activity_recognition_practice/Parkinson_seizure\n",
            "(13000, 5251) (13000, 1)\n",
            "(13000, 5252)\n",
            "(13000, 5252) (1000, 5252)\n",
            "(1000, 5250)\n",
            "(1000, 2)\n",
            "(1000, 13)\n",
            "(?, 5250)\n",
            "(?, 125, 21, 4)\n",
            "(?, 62, 10, 16) (?, 31, 5, 32) (?, 15, 2, 64) (?, 7, 2, 128) (?, 1792)\n",
            "prediction_t (?, 2)\n",
            "prediction_p Tensor(\"class_p_13/Shape:0\", shape=(2,), dtype=int32)\n"
          ]
        },
        {
          "metadata": {
            "tags": null
          },
          "name": "stderr",
          "output_type": "stream",
          "text": [
            "/usr/local/lib/python3.7/dist-packages/ipykernel_launcher.py:234: DeprecationWarning: time.clock has been deprecated in Python 3.3 and will be removed from Python 3.8: use time.perf_counter or time.process_time instead\n"
          ]
        },
        {
          "output_type": "stream",
          "name": "stdout",
          "text": [
            "person, step: 13 10 train acc task 0.7913077 train acc person 0.35953847 ,the test acc task 0.815 testing: AE, t 0.4000764 4.8094077\n",
            "training cost: total, AE, t, p 10.240033 0.40763533 4.949668 1.9463601\n",
            "person, step: 13 20 train acc task 0.8159231 train acc person 0.46392307 ,the test acc task 0.818 testing: AE, t 0.31440663 4.8928585\n",
            "training cost: total, AE, t, p 9.048801 0.32122454 4.4066534 1.5921481\n",
            "person, step: 13 30 train acc task 0.82723075 train acc person 0.5292308 ,the test acc task 0.805 testing: AE, t 0.24640313 4.591127\n",
            "training cost: total, AE, t, p 8.379897 0.25302523 4.2060237 1.3907818\n",
            "person, step: 13 40 train acc task 0.8320769 train acc person 0.60138464 ,the test acc task 0.808 testing: AE, t 0.19417353 4.977483\n",
            "training cost: total, AE, t, p 7.6636076 0.20085157 3.9134204 1.1975657\n",
            "person, step: 13 50 train acc task 0.83876926 train acc person 0.6646923 ,the test acc task 0.794 testing: AE, t 0.15625742 4.8794007\n",
            "training cost: total, AE, t, p 7.2658176 0.16317165 3.8877816 1.0166619\n",
            "person, step: 13 60 train acc task 0.85015386 train acc person 0.7089231 ,the test acc task 0.788 testing: AE, t 0.12887363 4.9148183\n",
            "training cost: total, AE, t, p 6.681156 0.13596423 3.5515842 0.923086\n",
            "person, step: 13 70 train acc task 0.85546154 train acc person 0.7463846 ,the test acc task 0.805 testing: AE, t 0.10879505 4.804473\n",
            "training cost: total, AE, t, p 6.3494554 0.11613281 3.484483 0.7878418\n",
            "person, step: 13 80 train acc task 0.86515385 train acc person 0.78592306 ,the test acc task 0.804 testing: AE, t 0.09393445 4.9533606\n",
            "training cost: total, AE, t, p 6.008601 0.10134341 3.342051 0.69982713\n"
          ]
        },
        {
          "output_type": "stream",
          "name": "stderr",
          "text": [
            "/usr/local/lib/python3.7/dist-packages/ipykernel_launcher.py:270: DeprecationWarning: time.clock has been deprecated in Python 3.3 and will be removed from Python 3.8: use time.perf_counter or time.process_time instead\n"
          ]
        },
        {
          "output_type": "stream",
          "name": "stdout",
          "text": [
            "training, testing time 5894.00342 0.7593410000008589\n",
            "attention saved, person: 13\n",
            "five losses are saved at /home/xiangzhang/scratch/activity_recognition_practice/Parkinson_seizure\n"
          ]
        },
        {
          "output_type": "stream",
          "name": "stderr",
          "text": [
            "/usr/local/lib/python3.7/dist-packages/ipykernel_launcher.py:272: DeprecationWarning: time.clock has been deprecated in Python 3.3 and will be removed from Python 3.8: use time.perf_counter or time.process_time instead\n"
          ]
        }
      ]
    },
    {
      "cell_type": "code",
      "source": [
        "#80 iterations\n",
        "accuracies = [0.771, 0.83, 0.94, 0.772, 0.719, 0.707, 0.75, 0.834, 0.521, 0.616, 0.896, 0.576, 0.718, 0.804]\n",
        "print(\"step 80\")\n",
        "print(sum(accuracies)/len(accuracies))\n",
        "\n",
        "#70 iterations\n",
        "accuracies = [0.771, 0.854, 0.961, 0.769, 0.689, 0.698, 0.76, 0.826, 0.505, 0.62, 0.902, 0.567, 0.727, 0.805]\n",
        "print(\"step 70\")\n",
        "print(sum(accuracies)/len(accuracies))\n",
        "\n",
        "#50 iterations\n",
        "accuracies = [0.812, 0.828, 0.973, 0.767, 0.759, 0.715, 0.79, 0.804, 0.528, 0.61, 0.924, 0.57, 0.721, 0.794]\n",
        "print(\"step 50\")\n",
        "print(sum(accuracies)/len(accuracies))"
      ],
      "metadata": {
        "colab": {
          "base_uri": "https://localhost:8080/",
          "height": 0
        },
        "id": "x9BRB2ghK_rK",
        "outputId": "9ca0787b-ebdd-46d4-8fdc-6e0e5b96710a"
      },
      "execution_count": 4,
      "outputs": [
        {
          "output_type": "stream",
          "name": "stdout",
          "text": [
            "step 80\n",
            "0.7467142857142858\n",
            "step 70\n",
            "0.7467142857142857\n",
            "step 50\n",
            "0.7567857142857145\n"
          ]
        }
      ]
    },
    {
      "cell_type": "markdown",
      "source": [
        ""
      ],
      "metadata": {
        "id": "-nCpPzIznC6z"
      }
    }
  ]
}